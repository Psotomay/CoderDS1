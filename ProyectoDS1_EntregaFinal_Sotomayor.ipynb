{
 "cells": [
  {
   "cell_type": "markdown",
   "id": "f53baf6e-bd63-4a85-8e34-f3abd15d8c10",
   "metadata": {
    "id": "f53baf6e-bd63-4a85-8e34-f3abd15d8c10"
   },
   "source": [
    "# CoderHouse: Carrera de Data Sciencie"
   ]
  },
  {
   "cell_type": "markdown",
   "id": "ba451481-3624-45cd-94aa-966c646cab41",
   "metadata": {
    "id": "ba451481-3624-45cd-94aa-966c646cab41"
   },
   "source": [
    "## Data Science I: Fundamentos para la Ciencia de Datos"
   ]
  },
  {
   "cell_type": "markdown",
   "id": "c7568c7e-4f94-4835-ab30-6786e8d32a8b",
   "metadata": {
    "id": "c7568c7e-4f94-4835-ab30-6786e8d32a8b"
   },
   "source": [
    "### Alumno: Pablo Sotomayor"
   ]
  },
  {
   "cell_type": "markdown",
   "id": "71728c6b-c70c-4595-b5e6-93017890bb3f",
   "metadata": {
    "id": "71728c6b-c70c-4595-b5e6-93017890bb3f"
   },
   "source": [
    "### Comisión: 61750"
   ]
  },
  {
   "cell_type": "markdown",
   "id": "701ffc3f-20bb-4817-b6fa-5c8b7dd7b9aa",
   "metadata": {
    "id": "701ffc3f-20bb-4817-b6fa-5c8b7dd7b9aa",
    "jp-MarkdownHeadingCollapsed": true
   },
   "source": [
    "## Introducción\n",
    "\n",
    "La fidelización de los clientes es un punto central de las compañias en la actualidad. Las compañias se desarrollan, existen y se sostienen debido a la existencia de los mismos. Esta situacion se profundiza aún mas cuando hablamos de instituciones financieras tradicionales, las cuales en los últimos años han enfrentado una competencia sin precedentes(debido a los nuevos formatos de instituciones financieras).\n",
    "Por tal motivo el análisis y la predicción de la perdida o deserción de clientes es fundamental para la toma de desiciones, de los bancos tradicionales, en relación a las politicas de retención de cartera (clientes).\n",
    "Como respuesta a ello, este trabajo se centra en la exploración, analisis y tratamiento de un conjunto de datos relacionados con la deserción de clientes y, en consecuencia, en la construcción de un modelo de clasificación que predice si un cliente abandonará el banco o no.  "
   ]
  },
  {
   "cell_type": "markdown",
   "id": "54c42123-63f7-47cb-b2e7-f6efa47a29c8",
   "metadata": {
    "id": "54c42123-63f7-47cb-b2e7-f6efa47a29c8"
   },
   "source": [
    "## Descripción del Problema\n",
    "\n",
    "La deserción de clientes es un problema que pone en riesgo las ganancias de la compañia (el banco), asi como también, su estabilidad y solvencia. Desarrollar un modelo predictivo clasificatorio, con la calidad suficiente, que arroje diferentes insights, es de suma importancia para la toma de decisiones en relación a la retención de clientes."
   ]
  },
  {
   "cell_type": "markdown",
   "id": "67d6065f-dc83-495d-bf37-f4f3b9d4dfdb",
   "metadata": {
    "id": "67d6065f-dc83-495d-bf37-f4f3b9d4dfdb"
   },
   "source": [
    "## Objetivo\n",
    "\n",
    "El objetivo primordial de este trabajo es construir un modelo de aprendizaje supervisado clasificatorio, que sea capaz de predecir si un cliente va a abandonar el banco o no.\n"
   ]
  },
  {
   "cell_type": "markdown",
   "id": "e3cfbe66-223f-48c9-a33a-b32e2fce6942",
   "metadata": {
    "id": "e3cfbe66-223f-48c9-a33a-b32e2fce6942"
   },
   "source": [
    "## Fuente de datos\n",
    "\n",
    "El dataset empleado en este trabajo fue obtenido de Kaggle:\n",
    "\n",
    "https://www.kaggle.com/datasets/gauravtopre/bank-customer-churn-dataset\n",
    "\n",
    "Este dataset cuenta con información relevante acerca de clientes, características de los mismos y perfil bancario de estos (productos, antiguedad, puntaje crediticio, etc). Esta información nos permitirá crear un modelo predictivo para determinar la desercion de clientes.\n"
   ]
  },
  {
   "cell_type": "markdown",
   "id": "59c67192-9666-4bef-930a-3eb3fa152232",
   "metadata": {
    "id": "59c67192-9666-4bef-930a-3eb3fa152232"
   },
   "source": [
    "## Importación de Librerías"
   ]
  },
  {
   "cell_type": "code",
   "execution_count": 2443,
   "id": "62950a0a-6194-4e72-811f-6a42b5d51dcb",
   "metadata": {
    "id": "62950a0a-6194-4e72-811f-6a42b5d51dcb"
   },
   "outputs": [],
   "source": [
    "import pandas as pd\n",
    "import matplotlib.pyplot as plt\n",
    "import seaborn as sns\n",
    "from sklearn.model_selection import train_test_split\n",
    "from sklearn import metrics\n",
    "from sklearn.metrics import confusion_matrix\n",
    "from sklearn.preprocessing import OneHotEncoder, LabelEncoder, MinMaxScaler, StandardScaler\n",
    "from scipy.stats import skew\n",
    "import time\n",
    "from sklearn.tree import DecisionTreeClassifier\n",
    "from sklearn.ensemble import RandomForestClassifier\n",
    "from sklearn.linear_model import LogisticRegression\n",
    "from sklearn.metrics import accuracy_score, precision_score, recall_score, f1_score, confusion_matrix, roc_auc_score\n",
    "from sklearn.metrics import classification_report\n",
    "import numpy as np"
   ]
  },
  {
   "cell_type": "markdown",
   "id": "1ba45b2d-cd94-4812-91f1-d440aaa223f3",
   "metadata": {
    "id": "1ba45b2d-cd94-4812-91f1-d440aaa223f3"
   },
   "source": [
    "## Carga y ordenamiento de datos"
   ]
  },
  {
   "cell_type": "code",
   "execution_count": 2444,
   "id": "3c2f192c-926f-4586-81ca-26166fc32693",
   "metadata": {
    "colab": {
     "base_uri": "https://localhost:8080/",
     "height": 237
    },
    "id": "3c2f192c-926f-4586-81ca-26166fc32693",
    "outputId": "fd102c79-7f63-452a-fa13-930e75581aa0"
   },
   "outputs": [
    {
     "data": {
      "text/html": [
       "<div>\n",
       "<style scoped>\n",
       "    .dataframe tbody tr th:only-of-type {\n",
       "        vertical-align: middle;\n",
       "    }\n",
       "\n",
       "    .dataframe tbody tr th {\n",
       "        vertical-align: top;\n",
       "    }\n",
       "\n",
       "    .dataframe thead th {\n",
       "        text-align: right;\n",
       "    }\n",
       "</style>\n",
       "<table border=\"1\" class=\"dataframe\">\n",
       "  <thead>\n",
       "    <tr style=\"text-align: right;\">\n",
       "      <th></th>\n",
       "      <th>customer_id</th>\n",
       "      <th>credit_score</th>\n",
       "      <th>country</th>\n",
       "      <th>gender</th>\n",
       "      <th>age</th>\n",
       "      <th>tenure</th>\n",
       "      <th>balance</th>\n",
       "      <th>products_number</th>\n",
       "      <th>credit_card</th>\n",
       "      <th>active_member</th>\n",
       "      <th>estimated_salary</th>\n",
       "      <th>churn</th>\n",
       "    </tr>\n",
       "  </thead>\n",
       "  <tbody>\n",
       "    <tr>\n",
       "      <th>0</th>\n",
       "      <td>15565701</td>\n",
       "      <td>698</td>\n",
       "      <td>Spain</td>\n",
       "      <td>Female</td>\n",
       "      <td>39</td>\n",
       "      <td>9</td>\n",
       "      <td>161993.89</td>\n",
       "      <td>1</td>\n",
       "      <td>0</td>\n",
       "      <td>0</td>\n",
       "      <td>90212.38</td>\n",
       "      <td>0</td>\n",
       "    </tr>\n",
       "    <tr>\n",
       "      <th>1</th>\n",
       "      <td>15565706</td>\n",
       "      <td>612</td>\n",
       "      <td>Spain</td>\n",
       "      <td>Male</td>\n",
       "      <td>35</td>\n",
       "      <td>1</td>\n",
       "      <td>0.00</td>\n",
       "      <td>1</td>\n",
       "      <td>1</td>\n",
       "      <td>1</td>\n",
       "      <td>83256.26</td>\n",
       "      <td>1</td>\n",
       "    </tr>\n",
       "    <tr>\n",
       "      <th>2</th>\n",
       "      <td>15565714</td>\n",
       "      <td>601</td>\n",
       "      <td>France</td>\n",
       "      <td>Male</td>\n",
       "      <td>47</td>\n",
       "      <td>1</td>\n",
       "      <td>64430.06</td>\n",
       "      <td>2</td>\n",
       "      <td>0</td>\n",
       "      <td>1</td>\n",
       "      <td>96517.97</td>\n",
       "      <td>0</td>\n",
       "    </tr>\n",
       "    <tr>\n",
       "      <th>3</th>\n",
       "      <td>15565779</td>\n",
       "      <td>627</td>\n",
       "      <td>Germany</td>\n",
       "      <td>Female</td>\n",
       "      <td>30</td>\n",
       "      <td>6</td>\n",
       "      <td>57809.32</td>\n",
       "      <td>1</td>\n",
       "      <td>1</td>\n",
       "      <td>0</td>\n",
       "      <td>188258.49</td>\n",
       "      <td>0</td>\n",
       "    </tr>\n",
       "    <tr>\n",
       "      <th>4</th>\n",
       "      <td>15565796</td>\n",
       "      <td>745</td>\n",
       "      <td>Germany</td>\n",
       "      <td>Male</td>\n",
       "      <td>48</td>\n",
       "      <td>10</td>\n",
       "      <td>96048.55</td>\n",
       "      <td>1</td>\n",
       "      <td>1</td>\n",
       "      <td>0</td>\n",
       "      <td>74510.65</td>\n",
       "      <td>0</td>\n",
       "    </tr>\n",
       "    <tr>\n",
       "      <th>5</th>\n",
       "      <td>15565806</td>\n",
       "      <td>532</td>\n",
       "      <td>France</td>\n",
       "      <td>Male</td>\n",
       "      <td>38</td>\n",
       "      <td>9</td>\n",
       "      <td>0.00</td>\n",
       "      <td>2</td>\n",
       "      <td>0</td>\n",
       "      <td>0</td>\n",
       "      <td>30583.95</td>\n",
       "      <td>0</td>\n",
       "    </tr>\n",
       "  </tbody>\n",
       "</table>\n",
       "</div>"
      ],
      "text/plain": [
       "   customer_id  credit_score  country  gender  age  tenure    balance  \\\n",
       "0     15565701           698    Spain  Female   39       9  161993.89   \n",
       "1     15565706           612    Spain    Male   35       1       0.00   \n",
       "2     15565714           601   France    Male   47       1   64430.06   \n",
       "3     15565779           627  Germany  Female   30       6   57809.32   \n",
       "4     15565796           745  Germany    Male   48      10   96048.55   \n",
       "5     15565806           532   France    Male   38       9       0.00   \n",
       "\n",
       "   products_number  credit_card  active_member  estimated_salary  churn  \n",
       "0                1            0              0          90212.38      0  \n",
       "1                1            1              1          83256.26      1  \n",
       "2                2            0              1          96517.97      0  \n",
       "3                1            1              0         188258.49      0  \n",
       "4                1            1              0          74510.65      0  \n",
       "5                2            0              0          30583.95      0  "
      ]
     },
     "execution_count": 2444,
     "metadata": {},
     "output_type": "execute_result"
    }
   ],
   "source": [
    "url = 'https://raw.githubusercontent.com/Psotomay/CoderDS1/refs/heads/main/Bank%20Customer%20Churn%20Prediction(abando%20del%20banco%20o%20no).csv'\n",
    "df = pd.read_csv(url,index_col=False)#.sort_index(axis=0)#index_col=0\n",
    "df.sort_values(by='customer_id',ignore_index=True,inplace=True,na_position='first')\n",
    "df.head(6).round(2)"
   ]
  },
  {
   "cell_type": "markdown",
   "id": "c8cedb38-2ff5-42e7-8111-94d5b827c14c",
   "metadata": {
    "id": "c8cedb38-2ff5-42e7-8111-94d5b827c14c"
   },
   "source": [
    "## Exploración o Minería de Datos"
   ]
  },
  {
   "cell_type": "markdown",
   "id": "c218aa17-d7cd-46b2-9e1b-2cd5c3da9aee",
   "metadata": {
    "id": "c218aa17-d7cd-46b2-9e1b-2cd5c3da9aee"
   },
   "source": [
    "El propósito de la exploración de datos es descubrir patrones y relaciones entre las variables de un conjunto de datos. Para realizar este cometido vamos a analizar el conjunto de datos para comprender sus características y distribuciones.\n",
    "- Resumen Inicial: Visualizar la metadata del conjunto de datos, obtener una primera vista de los mismos y mostrar las primeras y últimas filas del DF.\n",
    "- Estadísticas Descriptivas: Calcular estadísticas descriptivas como media, mediana, desviación estándar, etc.\n",
    "- Establecer relaciones: Determinar posibles relaciones entre las variables de input y la variable target. Realizar Hipotesis.\n",
    "- Distribuciones: Visualizar las distribuciones de las variables numéricas y categóricas.\n",
    "- Gráficos Exploratorios: Crear gráficos como histogramas, diagramas de dispersión, y diagramas de caja para explorar los datos y mostrar relaciones."
   ]
  },
  {
   "cell_type": "code",
   "execution_count": 2445,
   "id": "12007f9c-a712-4742-877d-99d55f589765",
   "metadata": {
    "colab": {
     "base_uri": "https://localhost:8080/"
    },
    "id": "12007f9c-a712-4742-877d-99d55f589765",
    "outputId": "e5ff0b87-69b0-47e4-a8c0-229d9bab3e8e"
   },
   "outputs": [
    {
     "data": {
      "text/plain": [
       "(10000, 12)"
      ]
     },
     "execution_count": 2445,
     "metadata": {},
     "output_type": "execute_result"
    }
   ],
   "source": [
    "df.shape"
   ]
  },
  {
   "cell_type": "markdown",
   "id": "97be3725-a1f8-4f5b-ac3a-5d51a2e73e64",
   "metadata": {
    "id": "97be3725-a1f8-4f5b-ac3a-5d51a2e73e64"
   },
   "source": [
    "El data set tiene un total de **10 mil** registros."
   ]
  },
  {
   "cell_type": "code",
   "execution_count": 2446,
   "id": "2edca75a-d052-45f5-a5d1-54fd92befdcd",
   "metadata": {
    "colab": {
     "base_uri": "https://localhost:8080/"
    },
    "id": "2edca75a-d052-45f5-a5d1-54fd92befdcd",
    "outputId": "fda5622c-d559-4024-97cc-53d6bd7135fd"
   },
   "outputs": [
    {
     "name": "stdout",
     "output_type": "stream",
     "text": [
      "<class 'pandas.core.frame.DataFrame'>\n",
      "RangeIndex: 10000 entries, 0 to 9999\n",
      "Data columns (total 12 columns):\n",
      " #   Column            Non-Null Count  Dtype  \n",
      "---  ------            --------------  -----  \n",
      " 0   customer_id       10000 non-null  int64  \n",
      " 1   credit_score      10000 non-null  int64  \n",
      " 2   country           10000 non-null  object \n",
      " 3   gender            10000 non-null  object \n",
      " 4   age               10000 non-null  int64  \n",
      " 5   tenure            10000 non-null  int64  \n",
      " 6   balance           10000 non-null  float64\n",
      " 7   products_number   10000 non-null  int64  \n",
      " 8   credit_card       10000 non-null  int64  \n",
      " 9   active_member     10000 non-null  int64  \n",
      " 10  estimated_salary  10000 non-null  float64\n",
      " 11  churn             10000 non-null  int64  \n",
      "dtypes: float64(2), int64(8), object(2)\n",
      "memory usage: 937.6+ KB\n"
     ]
    }
   ],
   "source": [
    "df.info()"
   ]
  },
  {
   "cell_type": "markdown",
   "id": "ede6a35f-5d98-4b78-9b49-2917dd399061",
   "metadata": {},
   "source": [
    "### **Primera Visualización**"
   ]
  },
  {
   "cell_type": "markdown",
   "id": "bfed6058-4624-4288-80ce-afe2d8a36238",
   "metadata": {
    "id": "bfed6058-4624-4288-80ce-afe2d8a36238"
   },
   "source": [
    "\n",
    "El dataset contiene **10 mil registros** (filas) y 12 columnas. Las columnas son nuestras variables. Dentro de las variables se encuentra el customer_id que no se utilizaría para establecer relaciones. Tenemos también 10 variables que son variables de entrada, que podrían utilizarse para establecer relaciones. Por último tenemos la variable churn que sería nuestra variable target, es decir, la variable a predecir.\n",
    "Por otro lado observamos que no hay datos faltantes o vacíos ya que en todas las columnas los non null son 10 mil al igual que la cantidad de registros.\n",
    "\n",
    "-------------------------------------------------------------\n",
    "\n",
    "**Variables Potencialmente Relevantes:**\n",
    "\n",
    "Algunas variables que podrían ser relevantes para predecir la deserción o el abandono de un cliente podrían ser: \"credit_score\", \"tenure\", \"balance\", \"products_number\", \"credit_card\" y \"estimated_salary\"."
   ]
  },
  {
   "cell_type": "markdown",
   "id": "e29c0c03-f1d7-4546-9bc5-2151c6c6f678",
   "metadata": {},
   "source": [
    "### **Variable Target u objetivo (churn)**"
   ]
  },
  {
   "cell_type": "markdown",
   "id": "d06aa2a2-6815-4fc1-a4db-fe42ed46e41c",
   "metadata": {},
   "source": [
    "- La variable target, sobre la que vamos a predecir es **`churn`**, de tipo `int64`, y es **binaria**, es decir nos va a permitir construir un modelo de clasificación binaria.\n",
    "  - **0** indica que el cliente no abandonó el banco.\n",
    "  - **1** indica que el cliente abandonó el banco.\n"
   ]
  },
  {
   "cell_type": "markdown",
   "id": "5009c72c-97e0-46b7-aa8f-9b8c224f50f0",
   "metadata": {},
   "source": [
    "### **Conclusión Inicial**"
   ]
  },
  {
   "cell_type": "markdown",
   "id": "7241c67b-f3bb-47b5-b9d6-20f21ff3b45a",
   "metadata": {
    "id": "7241c67b-f3bb-47b5-b9d6-20f21ff3b45a",
    "jp-MarkdownHeadingCollapsed": true
   },
   "source": [
    "\n",
    "- Si bien observamos que no existen valores nulos debemos corroborar,ahondar y analizar en profundidad los datos para validar la integridad de los mismos y corregir los desvios.\n",
    "- La variable **churn** es el centro del modelo y es fundamental para predecir si un cliente va a abandonar el banco o no. Como solo el 20% de los clientes de nuestro dataset abandonaron el banco, al ser binaria la variable, podría necesitar técnicas de balanceo. Es decir 1 es la clase minoritaria y podrían no ser suficiente los casos de abandono para el entrenamiento del modelo.\n",
    "- Es importante considerar transformar las variables categoricas en números. Es decir codificar estas variables antes de incluirlas en nuestro modelo. Quizas a través de la tecnica one-hot encoding.\n"
   ]
  },
  {
   "cell_type": "code",
   "execution_count": 2447,
   "id": "08b5f24a-44d5-43ad-992f-40b73c09157a",
   "metadata": {
    "colab": {
     "base_uri": "https://localhost:8080/",
     "height": 696
    },
    "id": "08b5f24a-44d5-43ad-992f-40b73c09157a",
    "outputId": "d55fa152-32e5-418b-fadc-2235643081e7"
   },
   "outputs": [
    {
     "data": {
      "text/html": [
       "<div>\n",
       "<style scoped>\n",
       "    .dataframe tbody tr th:only-of-type {\n",
       "        vertical-align: middle;\n",
       "    }\n",
       "\n",
       "    .dataframe tbody tr th {\n",
       "        vertical-align: top;\n",
       "    }\n",
       "\n",
       "    .dataframe thead th {\n",
       "        text-align: right;\n",
       "    }\n",
       "</style>\n",
       "<table border=\"1\" class=\"dataframe\">\n",
       "  <thead>\n",
       "    <tr style=\"text-align: right;\">\n",
       "      <th></th>\n",
       "      <th>customer_id</th>\n",
       "      <th>credit_score</th>\n",
       "      <th>country</th>\n",
       "      <th>gender</th>\n",
       "      <th>age</th>\n",
       "      <th>tenure</th>\n",
       "      <th>balance</th>\n",
       "      <th>products_number</th>\n",
       "      <th>credit_card</th>\n",
       "      <th>active_member</th>\n",
       "      <th>estimated_salary</th>\n",
       "      <th>churn</th>\n",
       "    </tr>\n",
       "  </thead>\n",
       "  <tbody>\n",
       "    <tr>\n",
       "      <th>0</th>\n",
       "      <td>15565701</td>\n",
       "      <td>698</td>\n",
       "      <td>Spain</td>\n",
       "      <td>Female</td>\n",
       "      <td>39</td>\n",
       "      <td>9</td>\n",
       "      <td>161993.89</td>\n",
       "      <td>1</td>\n",
       "      <td>0</td>\n",
       "      <td>0</td>\n",
       "      <td>90212.38</td>\n",
       "      <td>0</td>\n",
       "    </tr>\n",
       "    <tr>\n",
       "      <th>1</th>\n",
       "      <td>15565706</td>\n",
       "      <td>612</td>\n",
       "      <td>Spain</td>\n",
       "      <td>Male</td>\n",
       "      <td>35</td>\n",
       "      <td>1</td>\n",
       "      <td>0.00</td>\n",
       "      <td>1</td>\n",
       "      <td>1</td>\n",
       "      <td>1</td>\n",
       "      <td>83256.26</td>\n",
       "      <td>1</td>\n",
       "    </tr>\n",
       "    <tr>\n",
       "      <th>2</th>\n",
       "      <td>15565714</td>\n",
       "      <td>601</td>\n",
       "      <td>France</td>\n",
       "      <td>Male</td>\n",
       "      <td>47</td>\n",
       "      <td>1</td>\n",
       "      <td>64430.06</td>\n",
       "      <td>2</td>\n",
       "      <td>0</td>\n",
       "      <td>1</td>\n",
       "      <td>96517.97</td>\n",
       "      <td>0</td>\n",
       "    </tr>\n",
       "    <tr>\n",
       "      <th>3</th>\n",
       "      <td>15565779</td>\n",
       "      <td>627</td>\n",
       "      <td>Germany</td>\n",
       "      <td>Female</td>\n",
       "      <td>30</td>\n",
       "      <td>6</td>\n",
       "      <td>57809.32</td>\n",
       "      <td>1</td>\n",
       "      <td>1</td>\n",
       "      <td>0</td>\n",
       "      <td>188258.49</td>\n",
       "      <td>0</td>\n",
       "    </tr>\n",
       "    <tr>\n",
       "      <th>4</th>\n",
       "      <td>15565796</td>\n",
       "      <td>745</td>\n",
       "      <td>Germany</td>\n",
       "      <td>Male</td>\n",
       "      <td>48</td>\n",
       "      <td>10</td>\n",
       "      <td>96048.55</td>\n",
       "      <td>1</td>\n",
       "      <td>1</td>\n",
       "      <td>0</td>\n",
       "      <td>74510.65</td>\n",
       "      <td>0</td>\n",
       "    </tr>\n",
       "    <tr>\n",
       "      <th>5</th>\n",
       "      <td>15565806</td>\n",
       "      <td>532</td>\n",
       "      <td>France</td>\n",
       "      <td>Male</td>\n",
       "      <td>38</td>\n",
       "      <td>9</td>\n",
       "      <td>0.00</td>\n",
       "      <td>2</td>\n",
       "      <td>0</td>\n",
       "      <td>0</td>\n",
       "      <td>30583.95</td>\n",
       "      <td>0</td>\n",
       "    </tr>\n",
       "    <tr>\n",
       "      <th>6</th>\n",
       "      <td>15565878</td>\n",
       "      <td>631</td>\n",
       "      <td>Spain</td>\n",
       "      <td>Male</td>\n",
       "      <td>29</td>\n",
       "      <td>3</td>\n",
       "      <td>0.00</td>\n",
       "      <td>2</td>\n",
       "      <td>1</td>\n",
       "      <td>1</td>\n",
       "      <td>197963.46</td>\n",
       "      <td>0</td>\n",
       "    </tr>\n",
       "    <tr>\n",
       "      <th>7</th>\n",
       "      <td>15565879</td>\n",
       "      <td>845</td>\n",
       "      <td>France</td>\n",
       "      <td>Female</td>\n",
       "      <td>28</td>\n",
       "      <td>9</td>\n",
       "      <td>0.00</td>\n",
       "      <td>2</td>\n",
       "      <td>1</td>\n",
       "      <td>1</td>\n",
       "      <td>56185.98</td>\n",
       "      <td>0</td>\n",
       "    </tr>\n",
       "    <tr>\n",
       "      <th>8</th>\n",
       "      <td>15565891</td>\n",
       "      <td>709</td>\n",
       "      <td>France</td>\n",
       "      <td>Male</td>\n",
       "      <td>39</td>\n",
       "      <td>8</td>\n",
       "      <td>0.00</td>\n",
       "      <td>2</td>\n",
       "      <td>1</td>\n",
       "      <td>0</td>\n",
       "      <td>56214.09</td>\n",
       "      <td>0</td>\n",
       "    </tr>\n",
       "    <tr>\n",
       "      <th>9</th>\n",
       "      <td>15565996</td>\n",
       "      <td>653</td>\n",
       "      <td>France</td>\n",
       "      <td>Male</td>\n",
       "      <td>44</td>\n",
       "      <td>8</td>\n",
       "      <td>0.00</td>\n",
       "      <td>2</td>\n",
       "      <td>1</td>\n",
       "      <td>1</td>\n",
       "      <td>154639.72</td>\n",
       "      <td>0</td>\n",
       "    </tr>\n",
       "    <tr>\n",
       "      <th>10</th>\n",
       "      <td>15566030</td>\n",
       "      <td>497</td>\n",
       "      <td>Germany</td>\n",
       "      <td>Male</td>\n",
       "      <td>41</td>\n",
       "      <td>5</td>\n",
       "      <td>80542.81</td>\n",
       "      <td>1</td>\n",
       "      <td>0</td>\n",
       "      <td>0</td>\n",
       "      <td>88729.22</td>\n",
       "      <td>1</td>\n",
       "    </tr>\n",
       "    <tr>\n",
       "      <th>11</th>\n",
       "      <td>15566091</td>\n",
       "      <td>545</td>\n",
       "      <td>Spain</td>\n",
       "      <td>Female</td>\n",
       "      <td>32</td>\n",
       "      <td>4</td>\n",
       "      <td>0.00</td>\n",
       "      <td>1</td>\n",
       "      <td>1</td>\n",
       "      <td>0</td>\n",
       "      <td>94739.20</td>\n",
       "      <td>0</td>\n",
       "    </tr>\n",
       "    <tr>\n",
       "      <th>12</th>\n",
       "      <td>15566111</td>\n",
       "      <td>596</td>\n",
       "      <td>France</td>\n",
       "      <td>Male</td>\n",
       "      <td>39</td>\n",
       "      <td>9</td>\n",
       "      <td>0.00</td>\n",
       "      <td>1</td>\n",
       "      <td>1</td>\n",
       "      <td>0</td>\n",
       "      <td>48963.59</td>\n",
       "      <td>0</td>\n",
       "    </tr>\n",
       "    <tr>\n",
       "      <th>13</th>\n",
       "      <td>15566139</td>\n",
       "      <td>526</td>\n",
       "      <td>France</td>\n",
       "      <td>Female</td>\n",
       "      <td>37</td>\n",
       "      <td>5</td>\n",
       "      <td>53573.18</td>\n",
       "      <td>1</td>\n",
       "      <td>1</td>\n",
       "      <td>0</td>\n",
       "      <td>62830.97</td>\n",
       "      <td>0</td>\n",
       "    </tr>\n",
       "    <tr>\n",
       "      <th>14</th>\n",
       "      <td>15566156</td>\n",
       "      <td>749</td>\n",
       "      <td>Germany</td>\n",
       "      <td>Female</td>\n",
       "      <td>44</td>\n",
       "      <td>0</td>\n",
       "      <td>71497.79</td>\n",
       "      <td>2</td>\n",
       "      <td>0</td>\n",
       "      <td>0</td>\n",
       "      <td>151083.80</td>\n",
       "      <td>0</td>\n",
       "    </tr>\n",
       "    <tr>\n",
       "      <th>15</th>\n",
       "      <td>15566211</td>\n",
       "      <td>616</td>\n",
       "      <td>Germany</td>\n",
       "      <td>Female</td>\n",
       "      <td>41</td>\n",
       "      <td>1</td>\n",
       "      <td>103560.57</td>\n",
       "      <td>1</td>\n",
       "      <td>1</td>\n",
       "      <td>0</td>\n",
       "      <td>236.45</td>\n",
       "      <td>1</td>\n",
       "    </tr>\n",
       "    <tr>\n",
       "      <th>16</th>\n",
       "      <td>15566251</td>\n",
       "      <td>618</td>\n",
       "      <td>France</td>\n",
       "      <td>Female</td>\n",
       "      <td>37</td>\n",
       "      <td>5</td>\n",
       "      <td>96652.86</td>\n",
       "      <td>1</td>\n",
       "      <td>1</td>\n",
       "      <td>0</td>\n",
       "      <td>98686.40</td>\n",
       "      <td>1</td>\n",
       "    </tr>\n",
       "    <tr>\n",
       "      <th>17</th>\n",
       "      <td>15566253</td>\n",
       "      <td>580</td>\n",
       "      <td>Germany</td>\n",
       "      <td>Male</td>\n",
       "      <td>44</td>\n",
       "      <td>9</td>\n",
       "      <td>143391.07</td>\n",
       "      <td>1</td>\n",
       "      <td>0</td>\n",
       "      <td>0</td>\n",
       "      <td>146891.07</td>\n",
       "      <td>1</td>\n",
       "    </tr>\n",
       "    <tr>\n",
       "      <th>18</th>\n",
       "      <td>15566269</td>\n",
       "      <td>787</td>\n",
       "      <td>France</td>\n",
       "      <td>Male</td>\n",
       "      <td>25</td>\n",
       "      <td>5</td>\n",
       "      <td>0.00</td>\n",
       "      <td>2</td>\n",
       "      <td>1</td>\n",
       "      <td>0</td>\n",
       "      <td>47307.90</td>\n",
       "      <td>0</td>\n",
       "    </tr>\n",
       "    <tr>\n",
       "      <th>19</th>\n",
       "      <td>15566292</td>\n",
       "      <td>574</td>\n",
       "      <td>Spain</td>\n",
       "      <td>Male</td>\n",
       "      <td>36</td>\n",
       "      <td>1</td>\n",
       "      <td>0.00</td>\n",
       "      <td>2</td>\n",
       "      <td>0</td>\n",
       "      <td>1</td>\n",
       "      <td>71709.12</td>\n",
       "      <td>0</td>\n",
       "    </tr>\n",
       "  </tbody>\n",
       "</table>\n",
       "</div>"
      ],
      "text/plain": [
       "    customer_id  credit_score  country  gender  age  tenure    balance  \\\n",
       "0      15565701           698    Spain  Female   39       9  161993.89   \n",
       "1      15565706           612    Spain    Male   35       1       0.00   \n",
       "2      15565714           601   France    Male   47       1   64430.06   \n",
       "3      15565779           627  Germany  Female   30       6   57809.32   \n",
       "4      15565796           745  Germany    Male   48      10   96048.55   \n",
       "5      15565806           532   France    Male   38       9       0.00   \n",
       "6      15565878           631    Spain    Male   29       3       0.00   \n",
       "7      15565879           845   France  Female   28       9       0.00   \n",
       "8      15565891           709   France    Male   39       8       0.00   \n",
       "9      15565996           653   France    Male   44       8       0.00   \n",
       "10     15566030           497  Germany    Male   41       5   80542.81   \n",
       "11     15566091           545    Spain  Female   32       4       0.00   \n",
       "12     15566111           596   France    Male   39       9       0.00   \n",
       "13     15566139           526   France  Female   37       5   53573.18   \n",
       "14     15566156           749  Germany  Female   44       0   71497.79   \n",
       "15     15566211           616  Germany  Female   41       1  103560.57   \n",
       "16     15566251           618   France  Female   37       5   96652.86   \n",
       "17     15566253           580  Germany    Male   44       9  143391.07   \n",
       "18     15566269           787   France    Male   25       5       0.00   \n",
       "19     15566292           574    Spain    Male   36       1       0.00   \n",
       "\n",
       "    products_number  credit_card  active_member  estimated_salary  churn  \n",
       "0                 1            0              0          90212.38      0  \n",
       "1                 1            1              1          83256.26      1  \n",
       "2                 2            0              1          96517.97      0  \n",
       "3                 1            1              0         188258.49      0  \n",
       "4                 1            1              0          74510.65      0  \n",
       "5                 2            0              0          30583.95      0  \n",
       "6                 2            1              1         197963.46      0  \n",
       "7                 2            1              1          56185.98      0  \n",
       "8                 2            1              0          56214.09      0  \n",
       "9                 2            1              1         154639.72      0  \n",
       "10                1            0              0          88729.22      1  \n",
       "11                1            1              0          94739.20      0  \n",
       "12                1            1              0          48963.59      0  \n",
       "13                1            1              0          62830.97      0  \n",
       "14                2            0              0         151083.80      0  \n",
       "15                1            1              0            236.45      1  \n",
       "16                1            1              0          98686.40      1  \n",
       "17                1            0              0         146891.07      1  \n",
       "18                2            1              0          47307.90      0  \n",
       "19                2            0              1          71709.12      0  "
      ]
     },
     "execution_count": 2447,
     "metadata": {},
     "output_type": "execute_result"
    }
   ],
   "source": [
    "df.head(20).round(2)"
   ]
  },
  {
   "cell_type": "code",
   "execution_count": 2448,
   "id": "cbf3302c-0319-4667-8640-75bcedfab8a0",
   "metadata": {
    "colab": {
     "base_uri": "https://localhost:8080/",
     "height": 696
    },
    "id": "cbf3302c-0319-4667-8640-75bcedfab8a0",
    "outputId": "eda973c8-0b5d-4a63-9905-7476261543be"
   },
   "outputs": [
    {
     "data": {
      "text/html": [
       "<div>\n",
       "<style scoped>\n",
       "    .dataframe tbody tr th:only-of-type {\n",
       "        vertical-align: middle;\n",
       "    }\n",
       "\n",
       "    .dataframe tbody tr th {\n",
       "        vertical-align: top;\n",
       "    }\n",
       "\n",
       "    .dataframe thead th {\n",
       "        text-align: right;\n",
       "    }\n",
       "</style>\n",
       "<table border=\"1\" class=\"dataframe\">\n",
       "  <thead>\n",
       "    <tr style=\"text-align: right;\">\n",
       "      <th></th>\n",
       "      <th>customer_id</th>\n",
       "      <th>credit_score</th>\n",
       "      <th>country</th>\n",
       "      <th>gender</th>\n",
       "      <th>age</th>\n",
       "      <th>tenure</th>\n",
       "      <th>balance</th>\n",
       "      <th>products_number</th>\n",
       "      <th>credit_card</th>\n",
       "      <th>active_member</th>\n",
       "      <th>estimated_salary</th>\n",
       "      <th>churn</th>\n",
       "    </tr>\n",
       "  </thead>\n",
       "  <tbody>\n",
       "    <tr>\n",
       "      <th>9980</th>\n",
       "      <td>15815259</td>\n",
       "      <td>835</td>\n",
       "      <td>France</td>\n",
       "      <td>Female</td>\n",
       "      <td>56</td>\n",
       "      <td>2</td>\n",
       "      <td>0.00</td>\n",
       "      <td>2</td>\n",
       "      <td>1</td>\n",
       "      <td>1</td>\n",
       "      <td>39820.13</td>\n",
       "      <td>0</td>\n",
       "    </tr>\n",
       "    <tr>\n",
       "      <th>9981</th>\n",
       "      <td>15815271</td>\n",
       "      <td>755</td>\n",
       "      <td>Germany</td>\n",
       "      <td>Male</td>\n",
       "      <td>43</td>\n",
       "      <td>6</td>\n",
       "      <td>165048.50</td>\n",
       "      <td>3</td>\n",
       "      <td>1</td>\n",
       "      <td>0</td>\n",
       "      <td>16929.41</td>\n",
       "      <td>1</td>\n",
       "    </tr>\n",
       "    <tr>\n",
       "      <th>9982</th>\n",
       "      <td>15815295</td>\n",
       "      <td>662</td>\n",
       "      <td>France</td>\n",
       "      <td>Female</td>\n",
       "      <td>38</td>\n",
       "      <td>2</td>\n",
       "      <td>96479.81</td>\n",
       "      <td>1</td>\n",
       "      <td>1</td>\n",
       "      <td>0</td>\n",
       "      <td>120259.41</td>\n",
       "      <td>0</td>\n",
       "    </tr>\n",
       "    <tr>\n",
       "      <th>9983</th>\n",
       "      <td>15815316</td>\n",
       "      <td>644</td>\n",
       "      <td>France</td>\n",
       "      <td>Male</td>\n",
       "      <td>50</td>\n",
       "      <td>9</td>\n",
       "      <td>76817.00</td>\n",
       "      <td>4</td>\n",
       "      <td>1</td>\n",
       "      <td>0</td>\n",
       "      <td>196371.13</td>\n",
       "      <td>1</td>\n",
       "    </tr>\n",
       "    <tr>\n",
       "      <th>9984</th>\n",
       "      <td>15815364</td>\n",
       "      <td>736</td>\n",
       "      <td>Spain</td>\n",
       "      <td>Female</td>\n",
       "      <td>28</td>\n",
       "      <td>2</td>\n",
       "      <td>0.00</td>\n",
       "      <td>2</td>\n",
       "      <td>1</td>\n",
       "      <td>1</td>\n",
       "      <td>117431.10</td>\n",
       "      <td>0</td>\n",
       "    </tr>\n",
       "    <tr>\n",
       "      <th>9985</th>\n",
       "      <td>15815420</td>\n",
       "      <td>808</td>\n",
       "      <td>Spain</td>\n",
       "      <td>Male</td>\n",
       "      <td>47</td>\n",
       "      <td>8</td>\n",
       "      <td>139196.00</td>\n",
       "      <td>1</td>\n",
       "      <td>0</td>\n",
       "      <td>1</td>\n",
       "      <td>74028.36</td>\n",
       "      <td>0</td>\n",
       "    </tr>\n",
       "    <tr>\n",
       "      <th>9986</th>\n",
       "      <td>15815428</td>\n",
       "      <td>823</td>\n",
       "      <td>France</td>\n",
       "      <td>Male</td>\n",
       "      <td>34</td>\n",
       "      <td>3</td>\n",
       "      <td>105057.33</td>\n",
       "      <td>1</td>\n",
       "      <td>1</td>\n",
       "      <td>0</td>\n",
       "      <td>9217.92</td>\n",
       "      <td>0</td>\n",
       "    </tr>\n",
       "    <tr>\n",
       "      <th>9987</th>\n",
       "      <td>15815443</td>\n",
       "      <td>527</td>\n",
       "      <td>Spain</td>\n",
       "      <td>Female</td>\n",
       "      <td>46</td>\n",
       "      <td>10</td>\n",
       "      <td>131414.76</td>\n",
       "      <td>1</td>\n",
       "      <td>1</td>\n",
       "      <td>0</td>\n",
       "      <td>54947.51</td>\n",
       "      <td>0</td>\n",
       "    </tr>\n",
       "    <tr>\n",
       "      <th>9988</th>\n",
       "      <td>15815490</td>\n",
       "      <td>670</td>\n",
       "      <td>Germany</td>\n",
       "      <td>Male</td>\n",
       "      <td>40</td>\n",
       "      <td>2</td>\n",
       "      <td>164948.98</td>\n",
       "      <td>3</td>\n",
       "      <td>0</td>\n",
       "      <td>0</td>\n",
       "      <td>177028.00</td>\n",
       "      <td>1</td>\n",
       "    </tr>\n",
       "    <tr>\n",
       "      <th>9989</th>\n",
       "      <td>15815530</td>\n",
       "      <td>612</td>\n",
       "      <td>France</td>\n",
       "      <td>Female</td>\n",
       "      <td>42</td>\n",
       "      <td>10</td>\n",
       "      <td>75497.51</td>\n",
       "      <td>1</td>\n",
       "      <td>0</td>\n",
       "      <td>0</td>\n",
       "      <td>149682.78</td>\n",
       "      <td>0</td>\n",
       "    </tr>\n",
       "    <tr>\n",
       "      <th>9990</th>\n",
       "      <td>15815534</td>\n",
       "      <td>505</td>\n",
       "      <td>Spain</td>\n",
       "      <td>Male</td>\n",
       "      <td>37</td>\n",
       "      <td>0</td>\n",
       "      <td>134006.39</td>\n",
       "      <td>1</td>\n",
       "      <td>1</td>\n",
       "      <td>1</td>\n",
       "      <td>93736.69</td>\n",
       "      <td>0</td>\n",
       "    </tr>\n",
       "    <tr>\n",
       "      <th>9991</th>\n",
       "      <td>15815552</td>\n",
       "      <td>670</td>\n",
       "      <td>France</td>\n",
       "      <td>Female</td>\n",
       "      <td>42</td>\n",
       "      <td>6</td>\n",
       "      <td>112333.63</td>\n",
       "      <td>1</td>\n",
       "      <td>1</td>\n",
       "      <td>1</td>\n",
       "      <td>65706.86</td>\n",
       "      <td>0</td>\n",
       "    </tr>\n",
       "    <tr>\n",
       "      <th>9992</th>\n",
       "      <td>15815560</td>\n",
       "      <td>666</td>\n",
       "      <td>Germany</td>\n",
       "      <td>Male</td>\n",
       "      <td>74</td>\n",
       "      <td>7</td>\n",
       "      <td>105102.50</td>\n",
       "      <td>1</td>\n",
       "      <td>1</td>\n",
       "      <td>1</td>\n",
       "      <td>46172.47</td>\n",
       "      <td>0</td>\n",
       "    </tr>\n",
       "    <tr>\n",
       "      <th>9993</th>\n",
       "      <td>15815615</td>\n",
       "      <td>681</td>\n",
       "      <td>France</td>\n",
       "      <td>Male</td>\n",
       "      <td>36</td>\n",
       "      <td>5</td>\n",
       "      <td>141952.07</td>\n",
       "      <td>1</td>\n",
       "      <td>1</td>\n",
       "      <td>1</td>\n",
       "      <td>185144.08</td>\n",
       "      <td>0</td>\n",
       "    </tr>\n",
       "    <tr>\n",
       "      <th>9994</th>\n",
       "      <td>15815626</td>\n",
       "      <td>640</td>\n",
       "      <td>France</td>\n",
       "      <td>Male</td>\n",
       "      <td>63</td>\n",
       "      <td>2</td>\n",
       "      <td>68432.45</td>\n",
       "      <td>2</td>\n",
       "      <td>1</td>\n",
       "      <td>1</td>\n",
       "      <td>112503.24</td>\n",
       "      <td>1</td>\n",
       "    </tr>\n",
       "    <tr>\n",
       "      <th>9995</th>\n",
       "      <td>15815628</td>\n",
       "      <td>711</td>\n",
       "      <td>France</td>\n",
       "      <td>Female</td>\n",
       "      <td>37</td>\n",
       "      <td>8</td>\n",
       "      <td>113899.92</td>\n",
       "      <td>1</td>\n",
       "      <td>0</td>\n",
       "      <td>0</td>\n",
       "      <td>80215.20</td>\n",
       "      <td>0</td>\n",
       "    </tr>\n",
       "    <tr>\n",
       "      <th>9996</th>\n",
       "      <td>15815645</td>\n",
       "      <td>481</td>\n",
       "      <td>France</td>\n",
       "      <td>Male</td>\n",
       "      <td>37</td>\n",
       "      <td>8</td>\n",
       "      <td>152303.66</td>\n",
       "      <td>2</td>\n",
       "      <td>1</td>\n",
       "      <td>1</td>\n",
       "      <td>175082.20</td>\n",
       "      <td>0</td>\n",
       "    </tr>\n",
       "    <tr>\n",
       "      <th>9997</th>\n",
       "      <td>15815656</td>\n",
       "      <td>541</td>\n",
       "      <td>Germany</td>\n",
       "      <td>Female</td>\n",
       "      <td>39</td>\n",
       "      <td>9</td>\n",
       "      <td>100116.67</td>\n",
       "      <td>1</td>\n",
       "      <td>1</td>\n",
       "      <td>1</td>\n",
       "      <td>199808.10</td>\n",
       "      <td>1</td>\n",
       "    </tr>\n",
       "    <tr>\n",
       "      <th>9998</th>\n",
       "      <td>15815660</td>\n",
       "      <td>758</td>\n",
       "      <td>France</td>\n",
       "      <td>Female</td>\n",
       "      <td>34</td>\n",
       "      <td>1</td>\n",
       "      <td>154139.45</td>\n",
       "      <td>1</td>\n",
       "      <td>1</td>\n",
       "      <td>1</td>\n",
       "      <td>60728.89</td>\n",
       "      <td>0</td>\n",
       "    </tr>\n",
       "    <tr>\n",
       "      <th>9999</th>\n",
       "      <td>15815690</td>\n",
       "      <td>614</td>\n",
       "      <td>Spain</td>\n",
       "      <td>Female</td>\n",
       "      <td>40</td>\n",
       "      <td>3</td>\n",
       "      <td>113348.50</td>\n",
       "      <td>1</td>\n",
       "      <td>1</td>\n",
       "      <td>1</td>\n",
       "      <td>77789.01</td>\n",
       "      <td>0</td>\n",
       "    </tr>\n",
       "  </tbody>\n",
       "</table>\n",
       "</div>"
      ],
      "text/plain": [
       "      customer_id  credit_score  country  gender  age  tenure    balance  \\\n",
       "9980     15815259           835   France  Female   56       2       0.00   \n",
       "9981     15815271           755  Germany    Male   43       6  165048.50   \n",
       "9982     15815295           662   France  Female   38       2   96479.81   \n",
       "9983     15815316           644   France    Male   50       9   76817.00   \n",
       "9984     15815364           736    Spain  Female   28       2       0.00   \n",
       "9985     15815420           808    Spain    Male   47       8  139196.00   \n",
       "9986     15815428           823   France    Male   34       3  105057.33   \n",
       "9987     15815443           527    Spain  Female   46      10  131414.76   \n",
       "9988     15815490           670  Germany    Male   40       2  164948.98   \n",
       "9989     15815530           612   France  Female   42      10   75497.51   \n",
       "9990     15815534           505    Spain    Male   37       0  134006.39   \n",
       "9991     15815552           670   France  Female   42       6  112333.63   \n",
       "9992     15815560           666  Germany    Male   74       7  105102.50   \n",
       "9993     15815615           681   France    Male   36       5  141952.07   \n",
       "9994     15815626           640   France    Male   63       2   68432.45   \n",
       "9995     15815628           711   France  Female   37       8  113899.92   \n",
       "9996     15815645           481   France    Male   37       8  152303.66   \n",
       "9997     15815656           541  Germany  Female   39       9  100116.67   \n",
       "9998     15815660           758   France  Female   34       1  154139.45   \n",
       "9999     15815690           614    Spain  Female   40       3  113348.50   \n",
       "\n",
       "      products_number  credit_card  active_member  estimated_salary  churn  \n",
       "9980                2            1              1          39820.13      0  \n",
       "9981                3            1              0          16929.41      1  \n",
       "9982                1            1              0         120259.41      0  \n",
       "9983                4            1              0         196371.13      1  \n",
       "9984                2            1              1         117431.10      0  \n",
       "9985                1            0              1          74028.36      0  \n",
       "9986                1            1              0           9217.92      0  \n",
       "9987                1            1              0          54947.51      0  \n",
       "9988                3            0              0         177028.00      1  \n",
       "9989                1            0              0         149682.78      0  \n",
       "9990                1            1              1          93736.69      0  \n",
       "9991                1            1              1          65706.86      0  \n",
       "9992                1            1              1          46172.47      0  \n",
       "9993                1            1              1         185144.08      0  \n",
       "9994                2            1              1         112503.24      1  \n",
       "9995                1            0              0          80215.20      0  \n",
       "9996                2            1              1         175082.20      0  \n",
       "9997                1            1              1         199808.10      1  \n",
       "9998                1            1              1          60728.89      0  \n",
       "9999                1            1              1          77789.01      0  "
      ]
     },
     "execution_count": 2448,
     "metadata": {},
     "output_type": "execute_result"
    }
   ],
   "source": [
    "df.tail(20).round(2)"
   ]
  },
  {
   "cell_type": "code",
   "execution_count": 2449,
   "id": "90f049bd-984d-498e-bdb0-5249630a6688",
   "metadata": {
    "colab": {
     "base_uri": "https://localhost:8080/",
     "height": 300
    },
    "id": "90f049bd-984d-498e-bdb0-5249630a6688",
    "outputId": "33e95e58-2822-4bf8-a50d-b6c3d5249679"
   },
   "outputs": [
    {
     "data": {
      "text/html": [
       "<div>\n",
       "<style scoped>\n",
       "    .dataframe tbody tr th:only-of-type {\n",
       "        vertical-align: middle;\n",
       "    }\n",
       "\n",
       "    .dataframe tbody tr th {\n",
       "        vertical-align: top;\n",
       "    }\n",
       "\n",
       "    .dataframe thead th {\n",
       "        text-align: right;\n",
       "    }\n",
       "</style>\n",
       "<table border=\"1\" class=\"dataframe\">\n",
       "  <thead>\n",
       "    <tr style=\"text-align: right;\">\n",
       "      <th></th>\n",
       "      <th>credit_score</th>\n",
       "      <th>age</th>\n",
       "      <th>tenure</th>\n",
       "      <th>balance</th>\n",
       "      <th>products_number</th>\n",
       "      <th>credit_card</th>\n",
       "      <th>active_member</th>\n",
       "      <th>estimated_salary</th>\n",
       "      <th>churn</th>\n",
       "    </tr>\n",
       "  </thead>\n",
       "  <tbody>\n",
       "    <tr>\n",
       "      <th>count</th>\n",
       "      <td>10000.00</td>\n",
       "      <td>10000.00</td>\n",
       "      <td>10000.00</td>\n",
       "      <td>10000.00</td>\n",
       "      <td>10000.00</td>\n",
       "      <td>10000.00</td>\n",
       "      <td>10000.00</td>\n",
       "      <td>10000.00</td>\n",
       "      <td>10000.0</td>\n",
       "    </tr>\n",
       "    <tr>\n",
       "      <th>mean</th>\n",
       "      <td>650.53</td>\n",
       "      <td>38.92</td>\n",
       "      <td>5.01</td>\n",
       "      <td>76485.89</td>\n",
       "      <td>1.53</td>\n",
       "      <td>0.71</td>\n",
       "      <td>0.52</td>\n",
       "      <td>100090.24</td>\n",
       "      <td>0.2</td>\n",
       "    </tr>\n",
       "    <tr>\n",
       "      <th>std</th>\n",
       "      <td>96.65</td>\n",
       "      <td>10.49</td>\n",
       "      <td>2.89</td>\n",
       "      <td>62397.41</td>\n",
       "      <td>0.58</td>\n",
       "      <td>0.46</td>\n",
       "      <td>0.50</td>\n",
       "      <td>57510.49</td>\n",
       "      <td>0.4</td>\n",
       "    </tr>\n",
       "    <tr>\n",
       "      <th>min</th>\n",
       "      <td>350.00</td>\n",
       "      <td>18.00</td>\n",
       "      <td>0.00</td>\n",
       "      <td>0.00</td>\n",
       "      <td>1.00</td>\n",
       "      <td>0.00</td>\n",
       "      <td>0.00</td>\n",
       "      <td>11.58</td>\n",
       "      <td>0.0</td>\n",
       "    </tr>\n",
       "    <tr>\n",
       "      <th>25%</th>\n",
       "      <td>584.00</td>\n",
       "      <td>32.00</td>\n",
       "      <td>3.00</td>\n",
       "      <td>0.00</td>\n",
       "      <td>1.00</td>\n",
       "      <td>0.00</td>\n",
       "      <td>0.00</td>\n",
       "      <td>51002.11</td>\n",
       "      <td>0.0</td>\n",
       "    </tr>\n",
       "    <tr>\n",
       "      <th>50%</th>\n",
       "      <td>652.00</td>\n",
       "      <td>37.00</td>\n",
       "      <td>5.00</td>\n",
       "      <td>97198.54</td>\n",
       "      <td>1.00</td>\n",
       "      <td>1.00</td>\n",
       "      <td>1.00</td>\n",
       "      <td>100193.92</td>\n",
       "      <td>0.0</td>\n",
       "    </tr>\n",
       "    <tr>\n",
       "      <th>75%</th>\n",
       "      <td>718.00</td>\n",
       "      <td>44.00</td>\n",
       "      <td>7.00</td>\n",
       "      <td>127644.24</td>\n",
       "      <td>2.00</td>\n",
       "      <td>1.00</td>\n",
       "      <td>1.00</td>\n",
       "      <td>149388.25</td>\n",
       "      <td>0.0</td>\n",
       "    </tr>\n",
       "    <tr>\n",
       "      <th>max</th>\n",
       "      <td>850.00</td>\n",
       "      <td>92.00</td>\n",
       "      <td>10.00</td>\n",
       "      <td>250898.09</td>\n",
       "      <td>4.00</td>\n",
       "      <td>1.00</td>\n",
       "      <td>1.00</td>\n",
       "      <td>199992.48</td>\n",
       "      <td>1.0</td>\n",
       "    </tr>\n",
       "  </tbody>\n",
       "</table>\n",
       "</div>"
      ],
      "text/plain": [
       "       credit_score       age    tenure    balance  products_number  \\\n",
       "count      10000.00  10000.00  10000.00   10000.00         10000.00   \n",
       "mean         650.53     38.92      5.01   76485.89             1.53   \n",
       "std           96.65     10.49      2.89   62397.41             0.58   \n",
       "min          350.00     18.00      0.00       0.00             1.00   \n",
       "25%          584.00     32.00      3.00       0.00             1.00   \n",
       "50%          652.00     37.00      5.00   97198.54             1.00   \n",
       "75%          718.00     44.00      7.00  127644.24             2.00   \n",
       "max          850.00     92.00     10.00  250898.09             4.00   \n",
       "\n",
       "       credit_card  active_member  estimated_salary    churn  \n",
       "count     10000.00       10000.00          10000.00  10000.0  \n",
       "mean          0.71           0.52         100090.24      0.2  \n",
       "std           0.46           0.50          57510.49      0.4  \n",
       "min           0.00           0.00             11.58      0.0  \n",
       "25%           0.00           0.00          51002.11      0.0  \n",
       "50%           1.00           1.00         100193.92      0.0  \n",
       "75%           1.00           1.00         149388.25      0.0  \n",
       "max           1.00           1.00         199992.48      1.0  "
      ]
     },
     "execution_count": 2449,
     "metadata": {},
     "output_type": "execute_result"
    }
   ],
   "source": [
    "df.iloc[:,1:].describe().round(2)"
   ]
  },
  {
   "cell_type": "markdown",
   "id": "f5fcdeb1-d3a1-4919-a523-2abd7ca4e4f4",
   "metadata": {
    "id": "f5fcdeb1-d3a1-4919-a523-2abd7ca4e4f4"
   },
   "source": [
    "**Credit_score:**\n",
    "- Se observa que las filas no nulas son 10 mil. Por ende no hay nulos.\n",
    "- El promedio del puntaje crediticio es 650,53.\n",
    "- El puntaje crediticio minimo es 350 mientras que el maximo es 850.\n",
    "- La desviación estandar es de 96,65 por lo cual es baja e indica que los valores se encuentran cerca de la media.\n",
    "\n",
    "**Age:**\n",
    "- No hay nulos.\n",
    "- Promedio de edad es casi 34 años.\n",
    "- Edad minima es de 18 y la maxima de 92. Podrían haber valores atípicos o outliers. Tenemos una std alta.\n",
    "  \n",
    "\n",
    "**Tenure:**\n",
    "- No hay valores nulos.\n",
    "- El promedio de la permanencia de los clientes es de 5 años aproximadamente.\n",
    "- El valor minimo es 0 y el maximo 10 años. El 0 no es un valor atípico ya que no se encuentra distante de los demas y es un caso común.\n",
    "- La std es de 2,89. Si tenemos en cuenta la unidad de medida es alta. En este caso podría indicar que los valores se encuentran lejos o dispersos en relación a la media.\n",
    "\n",
    "**Balance:**\n",
    "- No hay nulos.\n",
    "- El promedio de los saldos es 76485,89.\n",
    "- El minimo es 0 y el máximo es 250898,08. Esto podría indicar que 0 es un valor atípico. Tambien el maximo ya que esta muy lejos del promedio.\n",
    "- La desviación estándar es alta. Esto nos indicaría que los valores se encuentran lejos de la media. Pero tambien la std podría verse afectada por los valores atípicos.\n",
    "\n",
    "**Products_number:**\n",
    "- no hay nulos\n",
    "- El promedio de la cantidad de productos es 1.53\n",
    "- El minimo es 1 y el maximo 4.\n",
    "\n",
    "**Credit_card:**\n",
    "- El 70 por ciento de los clientes tiene tarjeta de credito.\n",
    "\n",
    "**Estimated_salary**\n",
    "- Tiene un promedio de casi 100 mil.\n",
    "- Minimo 11,58 y máximo de 200.000 aproximadamente.\n",
    "- std alta. Es decir lo valores se encuentra lejos del promedio.\n",
    "- Podría ser que presente valores atípicos tanto minimos como maximos.\n",
    "\n",
    "**Churn:**\n",
    "- Aproximadamente el 20 % de los clientes abandono el banco.\n",
    "\n",
    "- **Valores extremos**: hay 3 variables que parecen presentar valores extremos a priori. Aquí podemos encontrar outliers o valores atípicos. Estas variables son: age, balance y estimated_salary. Debe ser analizado cuando se realice el preprocesamiento de datos y la limpieza.\n",
    "\n",
    "- **Datos faltantes**: en principio no habría datos faltantes ya que no tenemos nulos, ni otros valores que indiquen que falten los mismos. Debe ser corroborado en la etapa de preprocesamiento de datos.  \n"
   ]
  },
  {
   "cell_type": "markdown",
   "id": "e9825e44-6f09-40a3-836a-1fb04ecbca1a",
   "metadata": {
    "id": "e9825e44-6f09-40a3-836a-1fb04ecbca1a"
   },
   "source": [
    "### Hipótesis:\n",
    "\n",
    "1. Existe una diferencia en cuanto al nivel de deserción de acuerdo al país del cliente.\n",
    "2. Existe una diferencia en cuanto al nivel de deserción de acuerdo al genero del cliente.\n",
    "3. El abandono del banco varía linealmente en relación con el puntaje crediticio: a menor credit_score mas deserción.\n",
    "4. Cuanto mayor es el tiempo de permanencia menor es la deserción.\n",
    "5. La deserción aumenta cuando disminuye el saldo de la cuenta: a menor saldo mas abandono.\n",
    "6. A menor cantidad de productos mayor deserción. Es decir la permanencia aumenta con la cantidad de productos."
   ]
  },
  {
   "cell_type": "markdown",
   "id": "316157eb-f23b-430c-8441-68f230468778",
   "metadata": {
    "id": "316157eb-f23b-430c-8441-68f230468778"
   },
   "source": [
    "#### Diferencia de abandono por país"
   ]
  },
  {
   "cell_type": "code",
   "execution_count": 2450,
   "id": "bcdf51c3-d55e-4889-8601-9042b17feffc",
   "metadata": {
    "colab": {
     "base_uri": "https://localhost:8080/"
    },
    "id": "bcdf51c3-d55e-4889-8601-9042b17feffc",
    "outputId": "da30ffd4-d89d-42aa-a743-16750e7b10bd"
   },
   "outputs": [
    {
     "name": "stdout",
     "output_type": "stream",
     "text": [
      "country\n",
      "France     810\n",
      "Germany    814\n",
      "Spain      413\n",
      "Name: churn, dtype: int64 country\n",
      "France     16.154767\n",
      "Germany    32.443204\n",
      "Spain      16.673395\n",
      "Name: churn, dtype: float64\n"
     ]
    }
   ],
   "source": [
    "# calculamos el numero de casos de abandono por país. numero sin tener en cuenta la cantidad de clientes por pais.\n",
    "churn_by_country_sum = df.groupby('country')['churn'].sum()\n",
    "# Porcentaje de abandono de cada pais. Se tiene en cuenta la cantidad de clientes.\n",
    "churn_by_country_percentage = df.groupby('country')['churn'].mean() * 100\n",
    "print(churn_by_country_sum,\n",
    "churn_by_country_percentage)"
   ]
  },
  {
   "cell_type": "code",
   "execution_count": 2451,
   "id": "0ea20693-22f8-421d-87db-98048b2c54dd",
   "metadata": {
    "colab": {
     "base_uri": "https://localhost:8080/",
     "height": 565
    },
    "id": "0ea20693-22f8-421d-87db-98048b2c54dd",
    "outputId": "b7e50baf-9cfd-4899-e39f-969dc1006575"
   },
   "outputs": [
    {
     "data": {
      "image/png": "[encoded data removed]",
      "text/plain": [
       "<Figure size 1000x600 with 1 Axes>"
      ]
     },
     "metadata": {},
     "output_type": "display_data"
    }
   ],
   "source": [
    "plt.figure(figsize=(10, 6))\n",
    "churn_by_country_percentage.plot(kind='bar', rot=0,color='orange')\n",
    "plt.xlabel('País',color = 'orange')\n",
    "plt.ylabel('Porcentaje de abandono',color = 'orange')\n",
    "plt.title('Abandonos por País',color = 'orange')\n",
    "\n",
    "plt.show()\n"
   ]
  },
  {
   "cell_type": "markdown",
   "id": "8c72372f-f4cd-46a1-9876-45210f887071",
   "metadata": {
    "id": "8c72372f-f4cd-46a1-9876-45210f887071"
   },
   "source": [
    "Podemos observar que hay una significativa diferencia entre Alemania y los otros países (Francia y España) en cuanto a la deserción de clientes. Si bien en cuanto al número de deserciones, Francia y Alemania tienen números similares ( Francia 810 y Alemania 814) cuando analizamos los porcentajes Alemania posee el doble de abandonos que Francia y España. Esto se debe a que Francia tiene el doble de clientes que Alemania.\n",
    "En conclusion: Alemania, con un 32% posee el indicador mas grande de deserciones y las probabilidades mas grandes de deserción. Francia y España estan ambos muy parejos compartiendo el segundo lugar con un 16%."
   ]
  },
  {
   "cell_type": "markdown",
   "id": "8faca551-cf05-4cb4-a069-768625809378",
   "metadata": {
    "id": "8faca551-cf05-4cb4-a069-768625809378"
   },
   "source": [
    "#### Diferencia por Género"
   ]
  },
  {
   "cell_type": "code",
   "execution_count": 2452,
   "id": "90b06cfd-948f-42a9-a288-85cc6aa5f03d",
   "metadata": {
    "colab": {
     "base_uri": "https://localhost:8080/",
     "height": 455
    },
    "id": "90b06cfd-948f-42a9-a288-85cc6aa5f03d",
    "outputId": "b0d8ad4a-ad19-450f-b53b-a0691d20b23d"
   },
   "outputs": [
    {
     "data": {
      "image/png": "[encoded data removed]",
      "text/plain": [
       "<Figure size 1000x500 with 2 Axes>"
      ]
     },
     "metadata": {},
     "output_type": "display_data"
    }
   ],
   "source": [
    "#Filtramos para que solo traiga Male y Female. Esto es por si hay algun dato sucio que en esta columna no tenga alguno de esos valores.\n",
    "filtered_df = df[df['gender'].isin(['Male', 'Female'])]\n",
    "# Calculo porcentaje para los que abandonan. No hacemos por 100 por que el grafico de torta lo calcula solo.\n",
    "gender_churn = df[filtered_df['churn'] == 1].value_counts(subset='gender',normalize=True)\n",
    "#No abandonan\n",
    "gender_no_churn = df[filtered_df['churn'] == 0].value_counts(subset='gender',normalize=True)\n",
    "\n",
    "fig, ax = plt.subplots(1, 2, figsize=(10, 5))\n",
    "# Grafico para los que abandonan\n",
    "ax[0].pie(gender_churn, labels=gender_churn.index, autopct='%1.1f%%', startangle=90)\n",
    "ax[0].set_title('Abandonan')\n",
    "\n",
    "#Grafico para los que no abandonan\n",
    "ax[1].pie(gender_no_churn, labels=gender_no_churn.index, autopct='%1.1f%%', startangle=90)\n",
    "ax[1].set_title('No Abandonan')\n",
    "\n",
    "plt.suptitle('Diserción por género(Male/Female)', fontsize=16)\n",
    "plt.show()\n"
   ]
  },
  {
   "cell_type": "markdown",
   "id": "1616e51c-beac-46b0-a675-0ec6a48a6e2d",
   "metadata": {
    "id": "1616e51c-beac-46b0-a675-0ec6a48a6e2d"
   },
   "source": [
    "Como vemos en los gráficos no hay una diferencia sustancial ni un patron relacional entre los abandonos por género. Es apenas un tanto mas elevado en las mujeres pero no se puede establer una relacion entre el género y las deserciones.  "
   ]
  },
  {
   "cell_type": "markdown",
   "id": "349be8cc-5ff9-4a09-a0ba-4139d4911739",
   "metadata": {
    "id": "349be8cc-5ff9-4a09-a0ba-4139d4911739"
   },
   "source": [
    "#### Diserción y puntaje crediticio"
   ]
  },
  {
   "cell_type": "code",
   "execution_count": 2453,
   "id": "ed6575df-6d2e-4407-b7e8-e1ec940d06c9",
   "metadata": {
    "colab": {
     "base_uri": "https://localhost:8080/",
     "height": 565
    },
    "id": "ed6575df-6d2e-4407-b7e8-e1ec940d06c9",
    "outputId": "440b9d86-e8f3-4764-cc6d-248daef395dc"
   },
   "outputs": [
    {
     "data": {
      "image/png": "[encoded data removed]",
      "text/plain": [
       "<Figure size 1000x600 with 1 Axes>"
      ]
     },
     "metadata": {},
     "output_type": "display_data"
    }
   ],
   "source": [
    "# nueva columna para agrupar de a 100 los valores.\n",
    "df['credit_score_group'] = (df['credit_score'] // 10) * 10\n",
    "churn_by_credit_percentage = df.groupby('credit_score_group')['churn'].mean()\n",
    "\n",
    "#churn_df = pd.DataFrame({'credit_score':churn_by_credit_percentage.index,'churn':churn_by_credit_percentage.values})\n",
    "\n",
    "plt.figure(figsize=(10, 6))\n",
    "#plt.plot(churn_df['credit_score'],churn_df['churn'], marker='o', linestyle='--')\n",
    "plt.plot(churn_by_credit_percentage.index,churn_by_credit_percentage.values, marker='o')\n",
    "plt.xlabel('Puntaje Crediticio', color='dodgerblue')\n",
    "plt.ylabel('Porcentaje de abandono', color='dodgerblue')\n",
    "plt.title('Relación de diserción y puntaje crediticio', color='dodgerblue')\n",
    "plt.grid(True)\n",
    "\n",
    "plt.show()\n",
    "\n",
    "\n"
   ]
  },
  {
   "cell_type": "markdown",
   "id": "0f370227-0901-495c-8cca-c6640fdcb8b5",
   "metadata": {
    "id": "0f370227-0901-495c-8cca-c6640fdcb8b5"
   },
   "source": [
    "Observamos que, si bien en el primer percentil de 300 a 400 se produce el pico de abandonos o deserciones, pico muy alto, luego en los otros percentiles se mantiene constante el porcentaje mencionado. Por ende la relacion o variación no es lineal: a menor puntaje crediticio no hay mayor diserción. Se observa que el foco de abandonos se da solo en los clientes que poseen el menor puntaje crediticio."
   ]
  },
  {
   "cell_type": "markdown",
   "id": "925d5c7b-bf5e-476f-9d11-aa54eeef71e7",
   "metadata": {
    "id": "925d5c7b-bf5e-476f-9d11-aa54eeef71e7"
   },
   "source": [
    "#### Diserción y años de permanencia"
   ]
  },
  {
   "cell_type": "code",
   "execution_count": 2454,
   "id": "6bc3c920-da73-4b2f-bd41-be820c4866bd",
   "metadata": {
    "colab": {
     "base_uri": "https://localhost:8080/",
     "height": 472
    },
    "id": "6bc3c920-da73-4b2f-bd41-be820c4866bd",
    "outputId": "1576ff83-0845-49c1-a061-e161210a009f"
   },
   "outputs": [
    {
     "data": {
      "image/png": "[encoded data removed]",
      "text/plain": [
       "<Figure size 640x480 with 1 Axes>"
      ]
     },
     "metadata": {},
     "output_type": "display_data"
    }
   ],
   "source": [
    "churn_by_tenure = df.groupby('tenure')['churn'].mean() * 100\n",
    "churn_by_tenure_df = pd.DataFrame({'Tenure': churn_by_tenure.index, 'Churn': churn_by_tenure.values})\n",
    "\n",
    "#plt.figure()\n",
    "ax = sns.lineplot(data=churn_by_tenure_df,x='Tenure', y='Churn') #sns.relplot(x = \"x\", y = \"y\", data = df, kind = \"line\");\n",
    "ax.set(xlabel='Años de permanencia', ylabel='Porcentaje de abandono', title='Deserción por Permanencia')\n",
    "ax.grid()\n"
   ]
  },
  {
   "cell_type": "markdown",
   "id": "a8de369e-1890-4a4d-b1a4-63db09d97a83",
   "metadata": {
    "id": "a8de369e-1890-4a4d-b1a4-63db09d97a83"
   },
   "source": [
    "En este gráfico observamos que tampoco hay una correlacion lineal entre los años de permanencia y la deserción de los clientes. No es una relación lineal. Es decir no encontramos un patrón en el cual a mayor permanencia menor deserción. Salvo en el primer estrato que a menos años (0 a 1) mayor porcentaje de abandono despues es muy inestable. Por ejemplo de 6a 8 años es el pico minimo de abandonos. Pero a los 9 sube considerablemente."
   ]
  },
  {
   "cell_type": "markdown",
   "id": "b8e76ddd-13cc-4707-a9e9-59f9729d6062",
   "metadata": {
    "id": "b8e76ddd-13cc-4707-a9e9-59f9729d6062"
   },
   "source": [
    "#### Deserción y Saldo de cuenta"
   ]
  },
  {
   "cell_type": "code",
   "execution_count": 2455,
   "id": "fb0426a2-f88e-4588-bacc-7353a8a7e8e7",
   "metadata": {
    "colab": {
     "base_uri": "https://localhost:8080/",
     "height": 581
    },
    "id": "fb0426a2-f88e-4588-bacc-7353a8a7e8e7",
    "outputId": "d4949612-a903-4afe-9af0-284bb9d9fc5e"
   },
   "outputs": [
    {
     "data": {
      "text/plain": [
       "<matplotlib.legend.Legend at 0x1eff7e339e0>"
      ]
     },
     "execution_count": 2455,
     "metadata": {},
     "output_type": "execute_result"
    },
    {
     "data": {
      "image/png": "[encoded data removed]",
      "text/plain": [
       "<Figure size 1200x600 with 2 Axes>"
      ]
     },
     "metadata": {},
     "output_type": "display_data"
    }
   ],
   "source": [
    "churn = df[df['churn'] == 1]\n",
    "no_churn = df[df['churn'] == 0]\n",
    "\n",
    "#fig, ax = plt.subplots(2, 1, figsize=(12, 12))\n",
    "\n",
    "#ax= sns.boxplot(x=\"balance\", data=churn)\n",
    "#ax.set(xlabel='Saldo de la cuenta', ylabel='Abandono', title='Deserción por Balance')\n",
    "#ax.grid()\n",
    "\n",
    "fig, ax = plt.subplots(nrows=2, ncols=1, figsize=(12, 6), sharex=True, sharey=True)\n",
    "ax[0].boxplot(churn['balance'], label='Deserción por Saldo',vert=False)\n",
    "ax[1].boxplot(no_churn['balance'], label='Fidelización por Saldo',vert=False)\n",
    "\n",
    "ax[0].set_title('Abandono por Saldo de Cuenta')\n",
    "ax[1].set_xlabel('Saldo de cuenta')\n",
    "ax[0].set_ylabel('Abandono')\n",
    "\n",
    "ax[0].legend()\n",
    "ax[1].legend()\n"
   ]
  },
  {
   "cell_type": "markdown",
   "id": "d9c4659d-8671-4c1f-ae59-d13d5ded059d",
   "metadata": {
    "id": "d9c4659d-8671-4c1f-ae59-d13d5ded059d"
   },
   "source": [
    "Al contrario de lo que planteamos como premisa no existe relacion lineal entre el saldo de la cuenta y las deserciones, es decir a menos saldo no hay mayores deserciones. Si comparamos las deserciones(primer gráfico) con los clientes que se quedaron (segundo gráfico) vemos que los que se quedaron poseen valores en saldos iniciales mientras que los desertores no poseen saldo en ese percentil. Por otra partre vemos que la mediana tanto en el grupo que abandono como en el grupo que se quedo es muy similar. Lo que demuestra lo establecido en el primer párrafo.\n",
    "Por último podemos decir que no se ven datos atípicos ni outliers si vemos por separado los que abandonaron y los que no. Esto último debemos corroborarlo cuando calculemos outliers, en la columna total, ya que en conclusiones preliminares este campo presentaba algún dato suceptible de ser atípico."
   ]
  },
  {
   "cell_type": "markdown",
   "id": "8e21e4d0-63a7-4c6b-a4c9-15ebd91b0c8b",
   "metadata": {
    "id": "8e21e4d0-63a7-4c6b-a4c9-15ebd91b0c8b"
   },
   "source": [
    "#### Deserción y Cantidad de Prodcutos"
   ]
  },
  {
   "cell_type": "code",
   "execution_count": 2456,
   "id": "43efd32d-74ef-42dc-9977-653f73c4cd44",
   "metadata": {
    "colab": {
     "base_uri": "https://localhost:8080/",
     "height": 488
    },
    "id": "43efd32d-74ef-42dc-9977-653f73c4cd44",
    "outputId": "b0c69389-aede-4867-9182-3e09a41a3a6d"
   },
   "outputs": [
    {
     "data": {
      "image/png": "[encoded data removed]",
      "text/plain": [
       "<Figure size 1000x500 with 2 Axes>"
      ]
     },
     "metadata": {},
     "output_type": "display_data"
    }
   ],
   "source": [
    "sns.set_style(style=\"darkgrid\", rc={\"grid.color\": \".6\"})\n",
    "sns.set_style(rc={\"grid.linestyle\": \":\"})\n",
    "sns.set_style(rc={\"axes.titleweight\": \"normal\"})\n",
    "sns.set_style(rc={\"axes.titlelocation\": \"left\"})\n",
    "sns.set_style(rc={\"axes.titlecolor\": \"blue\"})\n",
    "sns.set_style(rc={\"axes.labelcolor\": \"blue\"})\n",
    "sns.set_style(rc={\"axes.labelsize\": \"12\"})\n",
    "sns.set_style(rc={\"axes.labelweight\": \"normal\"})\n",
    "sns.set_style(rc={\"axes.linewidth\": \"0.5\"})\n",
    "sns.set_style(rc={\"grid.color\": \"grey\"})\n",
    "sns.set_style(rc={\"grid.linestyle\": \"--\"})\n",
    "sns.set_style(rc={\"grid.linewidth\": \"0.5\"})\n",
    "sns.set_style(rc={\"font.fantasy\": \"Comic Sans MS\"})\n",
    "sns.set_style(rc={\"font.serif\": \"Utopia\"})\n",
    "churn = df[df['churn'] == 1]\n",
    "no_churn = df[df['churn'] == 0]\n",
    "\n",
    "churn1= churn.sum()\n",
    "\n",
    "fig, axes = plt.subplots(nrows=1, ncols=2, figsize=(10, 5))\n",
    "\n",
    "ax= sns.histplot(x=\"products_number\", data=churn,ax=axes[0], bins=10,kde=True)\n",
    "ax.set(xlabel='Numero de productos', ylabel='Abandono', title='Deserción por Productos')\n",
    "ax.grid()\n",
    "\n",
    "ax= sns.histplot(x=\"products_number\", data=no_churn,ax=axes[1],bins=10, kde=True)\n",
    "ax.set(xlabel='Numero de productos', ylabel='Fidelización', title='Fidelización por Productos')\n",
    "ax.grid()\n",
    "\n"
   ]
  },
  {
   "cell_type": "markdown",
   "id": "d96dfc90-91ab-42f9-a204-dc16efd1de39",
   "metadata": {
    "id": "d96dfc90-91ab-42f9-a204-dc16efd1de39"
   },
   "source": [
    "No es clara la relación entre la cantidad de productos y la deserción. Si bien en el primer gráfico se muestra que a menos productos hay mas deserción tambien en el gráfico de fidelización se muestra que muchos clientes con menos productos se quedan en el banco. Lo que sugiere que es el estrato con mayor cantidad de clientes. Luego tenemos que el pico de los que se quedan es con 2 productos. La relacion en si es irregular con variaciones poco claras que no siguen linealmente la relación."
   ]
  },
  {
   "cell_type": "markdown",
   "id": "d3fc9362-64c7-4ea0-a0fc-f1102f4dea29",
   "metadata": {
    "id": "d3fc9362-64c7-4ea0-a0fc-f1102f4dea29"
   },
   "source": [
    "## Preprocesamiento de Datos\n"
   ]
  },
  {
   "cell_type": "markdown",
   "id": "32bafb74-8532-4de5-b30b-57d7f3439638",
   "metadata": {
    "id": "32bafb74-8532-4de5-b30b-57d7f3439638"
   },
   "source": [
    "En este apartado preparamos los datos para que el modelo sea eficiente y funcione correctamente. Es decir realizamos la limpieza, normalización y adecuación de los datos para tal cometido: Tratamos y corregimos los valores extremos (outliers) para que no incidan negativamente en el entrenamiento del modelo, manejamos los valores nulos o faltantes con diversas técnicas, se normalizan los datos que presenten diferencias, eliminamos las variables que no son relevantes para el modelo y codificamos las variables categóricas para que el modelo pueda procesarlas."
   ]
  },
  {
   "cell_type": "markdown",
   "id": "d829a236-6f96-4cde-ad06-f47e1c34af7e",
   "metadata": {
    "id": "d829a236-6f96-4cde-ad06-f47e1c34af7e"
   },
   "source": [
    "Corroboramos que el df no haya sufrido modificaciones (y si las sufrio poder divisarlas) y vemos como se componen las columnas para poder tratarlas:"
   ]
  },
  {
   "cell_type": "code",
   "execution_count": 2457,
   "id": "9765321e-f805-446b-a5a5-9616de84e080",
   "metadata": {
    "colab": {
     "base_uri": "https://localhost:8080/",
     "height": 226
    },
    "id": "9765321e-f805-446b-a5a5-9616de84e080",
    "outputId": "99fa95a8-0db0-4d49-9828-490575b29029"
   },
   "outputs": [
    {
     "data": {
      "text/html": [
       "<div>\n",
       "<style scoped>\n",
       "    .dataframe tbody tr th:only-of-type {\n",
       "        vertical-align: middle;\n",
       "    }\n",
       "\n",
       "    .dataframe tbody tr th {\n",
       "        vertical-align: top;\n",
       "    }\n",
       "\n",
       "    .dataframe thead th {\n",
       "        text-align: right;\n",
       "    }\n",
       "</style>\n",
       "<table border=\"1\" class=\"dataframe\">\n",
       "  <thead>\n",
       "    <tr style=\"text-align: right;\">\n",
       "      <th></th>\n",
       "      <th>customer_id</th>\n",
       "      <th>credit_score</th>\n",
       "      <th>country</th>\n",
       "      <th>gender</th>\n",
       "      <th>age</th>\n",
       "      <th>tenure</th>\n",
       "      <th>balance</th>\n",
       "      <th>products_number</th>\n",
       "      <th>credit_card</th>\n",
       "      <th>active_member</th>\n",
       "      <th>estimated_salary</th>\n",
       "      <th>churn</th>\n",
       "      <th>credit_score_group</th>\n",
       "    </tr>\n",
       "  </thead>\n",
       "  <tbody>\n",
       "    <tr>\n",
       "      <th>0</th>\n",
       "      <td>15565701</td>\n",
       "      <td>698</td>\n",
       "      <td>Spain</td>\n",
       "      <td>Female</td>\n",
       "      <td>39</td>\n",
       "      <td>9</td>\n",
       "      <td>161993.89</td>\n",
       "      <td>1</td>\n",
       "      <td>0</td>\n",
       "      <td>0</td>\n",
       "      <td>90212.38</td>\n",
       "      <td>0</td>\n",
       "      <td>690</td>\n",
       "    </tr>\n",
       "    <tr>\n",
       "      <th>1</th>\n",
       "      <td>15565706</td>\n",
       "      <td>612</td>\n",
       "      <td>Spain</td>\n",
       "      <td>Male</td>\n",
       "      <td>35</td>\n",
       "      <td>1</td>\n",
       "      <td>0.00</td>\n",
       "      <td>1</td>\n",
       "      <td>1</td>\n",
       "      <td>1</td>\n",
       "      <td>83256.26</td>\n",
       "      <td>1</td>\n",
       "      <td>610</td>\n",
       "    </tr>\n",
       "    <tr>\n",
       "      <th>2</th>\n",
       "      <td>15565714</td>\n",
       "      <td>601</td>\n",
       "      <td>France</td>\n",
       "      <td>Male</td>\n",
       "      <td>47</td>\n",
       "      <td>1</td>\n",
       "      <td>64430.06</td>\n",
       "      <td>2</td>\n",
       "      <td>0</td>\n",
       "      <td>1</td>\n",
       "      <td>96517.97</td>\n",
       "      <td>0</td>\n",
       "      <td>600</td>\n",
       "    </tr>\n",
       "    <tr>\n",
       "      <th>3</th>\n",
       "      <td>15565779</td>\n",
       "      <td>627</td>\n",
       "      <td>Germany</td>\n",
       "      <td>Female</td>\n",
       "      <td>30</td>\n",
       "      <td>6</td>\n",
       "      <td>57809.32</td>\n",
       "      <td>1</td>\n",
       "      <td>1</td>\n",
       "      <td>0</td>\n",
       "      <td>188258.49</td>\n",
       "      <td>0</td>\n",
       "      <td>620</td>\n",
       "    </tr>\n",
       "    <tr>\n",
       "      <th>4</th>\n",
       "      <td>15565796</td>\n",
       "      <td>745</td>\n",
       "      <td>Germany</td>\n",
       "      <td>Male</td>\n",
       "      <td>48</td>\n",
       "      <td>10</td>\n",
       "      <td>96048.55</td>\n",
       "      <td>1</td>\n",
       "      <td>1</td>\n",
       "      <td>0</td>\n",
       "      <td>74510.65</td>\n",
       "      <td>0</td>\n",
       "      <td>740</td>\n",
       "    </tr>\n",
       "  </tbody>\n",
       "</table>\n",
       "</div>"
      ],
      "text/plain": [
       "   customer_id  credit_score  country  gender  age  tenure    balance  \\\n",
       "0     15565701           698    Spain  Female   39       9  161993.89   \n",
       "1     15565706           612    Spain    Male   35       1       0.00   \n",
       "2     15565714           601   France    Male   47       1   64430.06   \n",
       "3     15565779           627  Germany  Female   30       6   57809.32   \n",
       "4     15565796           745  Germany    Male   48      10   96048.55   \n",
       "\n",
       "   products_number  credit_card  active_member  estimated_salary  churn  \\\n",
       "0                1            0              0          90212.38      0   \n",
       "1                1            1              1          83256.26      1   \n",
       "2                2            0              1          96517.97      0   \n",
       "3                1            1              0         188258.49      0   \n",
       "4                1            1              0          74510.65      0   \n",
       "\n",
       "   credit_score_group  \n",
       "0                 690  \n",
       "1                 610  \n",
       "2                 600  \n",
       "3                 620  \n",
       "4                 740  "
      ]
     },
     "execution_count": 2457,
     "metadata": {},
     "output_type": "execute_result"
    }
   ],
   "source": [
    "df.head()"
   ]
  },
  {
   "cell_type": "markdown",
   "id": "5ec927a2-8b96-4190-92e3-4b3966ac99c7",
   "metadata": {
    "id": "5ec927a2-8b96-4190-92e3-4b3966ac99c7"
   },
   "source": [
    "### Eliminar variables (columnas) irrelevantes\n",
    "\n",
    "Aca vamos a eliminar las columnas de un solo valor y las irrelevantes para el modelo"
   ]
  },
  {
   "cell_type": "code",
   "execution_count": 2458,
   "id": "f61b23af-7bc3-4980-a7ef-eb9f723c6eeb",
   "metadata": {
    "id": "f61b23af-7bc3-4980-a7ef-eb9f723c6eeb"
   },
   "outputs": [],
   "source": [
    "def drop_variables(dataFrame,columnas_irrelevantes):\n",
    "\n",
    "    #Eliminar columnas especificas\n",
    "    dataFrame = dataFrame.drop(columns = columnas_irrelevantes, axis=1)\n",
    "    # Eliminar columnas con un solo valor\n",
    "    dataFrame = dataFrame.drop(columns=[col for col in dataFrame.columns if len(dataFrame[col].unique()) == 1], axis=1)\n",
    "\n",
    "    return dataFrame"
   ]
  },
  {
   "cell_type": "code",
   "execution_count": 2459,
   "id": "d8fa18f1-ac89-448c-9e47-2079b8c98e6e",
   "metadata": {
    "colab": {
     "base_uri": "https://localhost:8080/"
    },
    "id": "d8fa18f1-ac89-448c-9e47-2079b8c98e6e",
    "outputId": "f2ac7612-dbf5-489c-b544-22c3f32920f4"
   },
   "outputs": [
    {
     "name": "stdout",
     "output_type": "stream",
     "text": [
      "customer_id           10000\n",
      "credit_score            460\n",
      "country                   3\n",
      "gender                    2\n",
      "age                      70\n",
      "tenure                   11\n",
      "balance                6382\n",
      "products_number           4\n",
      "credit_card               2\n",
      "active_member             2\n",
      "estimated_salary       9999\n",
      "churn                     2\n",
      "credit_score_group       51\n",
      "dtype: int64\n"
     ]
    }
   ],
   "source": [
    "print(df.nunique())"
   ]
  },
  {
   "cell_type": "markdown",
   "id": "10ca9bf1-20a9-4aec-b882-332b74e874f8",
   "metadata": {
    "id": "10ca9bf1-20a9-4aec-b882-332b74e874f8"
   },
   "source": [
    "Arriba podemos observar que, las variables que pueden ser analizadas por la cantidad de valores que tienen en las columnas, estan correctas. Por ejemplo gender tiene dos valores lo que quiere decir que no hay que corregir datos. Tambien tenemos tres países y country tiene 3 valores."
   ]
  },
  {
   "cell_type": "code",
   "execution_count": 2460,
   "id": "f779c24c-bf37-4296-9b13-b5698692bb51",
   "metadata": {
    "colab": {
     "base_uri": "https://localhost:8080/",
     "height": 423
    },
    "id": "f779c24c-bf37-4296-9b13-b5698692bb51",
    "outputId": "c2f70e98-5032-40b7-d4d6-8b75b16fd775"
   },
   "outputs": [
    {
     "data": {
      "text/html": [
       "<div>\n",
       "<style scoped>\n",
       "    .dataframe tbody tr th:only-of-type {\n",
       "        vertical-align: middle;\n",
       "    }\n",
       "\n",
       "    .dataframe tbody tr th {\n",
       "        vertical-align: top;\n",
       "    }\n",
       "\n",
       "    .dataframe thead th {\n",
       "        text-align: right;\n",
       "    }\n",
       "</style>\n",
       "<table border=\"1\" class=\"dataframe\">\n",
       "  <thead>\n",
       "    <tr style=\"text-align: right;\">\n",
       "      <th></th>\n",
       "      <th>credit_score</th>\n",
       "      <th>country</th>\n",
       "      <th>gender</th>\n",
       "      <th>age</th>\n",
       "      <th>tenure</th>\n",
       "      <th>balance</th>\n",
       "      <th>products_number</th>\n",
       "      <th>credit_card</th>\n",
       "      <th>active_member</th>\n",
       "      <th>estimated_salary</th>\n",
       "      <th>churn</th>\n",
       "    </tr>\n",
       "  </thead>\n",
       "  <tbody>\n",
       "    <tr>\n",
       "      <th>0</th>\n",
       "      <td>698</td>\n",
       "      <td>Spain</td>\n",
       "      <td>Female</td>\n",
       "      <td>39</td>\n",
       "      <td>9</td>\n",
       "      <td>161993.89</td>\n",
       "      <td>1</td>\n",
       "      <td>0</td>\n",
       "      <td>0</td>\n",
       "      <td>90212.38</td>\n",
       "      <td>0</td>\n",
       "    </tr>\n",
       "    <tr>\n",
       "      <th>1</th>\n",
       "      <td>612</td>\n",
       "      <td>Spain</td>\n",
       "      <td>Male</td>\n",
       "      <td>35</td>\n",
       "      <td>1</td>\n",
       "      <td>0.00</td>\n",
       "      <td>1</td>\n",
       "      <td>1</td>\n",
       "      <td>1</td>\n",
       "      <td>83256.26</td>\n",
       "      <td>1</td>\n",
       "    </tr>\n",
       "    <tr>\n",
       "      <th>2</th>\n",
       "      <td>601</td>\n",
       "      <td>France</td>\n",
       "      <td>Male</td>\n",
       "      <td>47</td>\n",
       "      <td>1</td>\n",
       "      <td>64430.06</td>\n",
       "      <td>2</td>\n",
       "      <td>0</td>\n",
       "      <td>1</td>\n",
       "      <td>96517.97</td>\n",
       "      <td>0</td>\n",
       "    </tr>\n",
       "    <tr>\n",
       "      <th>3</th>\n",
       "      <td>627</td>\n",
       "      <td>Germany</td>\n",
       "      <td>Female</td>\n",
       "      <td>30</td>\n",
       "      <td>6</td>\n",
       "      <td>57809.32</td>\n",
       "      <td>1</td>\n",
       "      <td>1</td>\n",
       "      <td>0</td>\n",
       "      <td>188258.49</td>\n",
       "      <td>0</td>\n",
       "    </tr>\n",
       "    <tr>\n",
       "      <th>4</th>\n",
       "      <td>745</td>\n",
       "      <td>Germany</td>\n",
       "      <td>Male</td>\n",
       "      <td>48</td>\n",
       "      <td>10</td>\n",
       "      <td>96048.55</td>\n",
       "      <td>1</td>\n",
       "      <td>1</td>\n",
       "      <td>0</td>\n",
       "      <td>74510.65</td>\n",
       "      <td>0</td>\n",
       "    </tr>\n",
       "  </tbody>\n",
       "</table>\n",
       "</div>"
      ],
      "text/plain": [
       "   credit_score  country  gender  age  tenure    balance  products_number  \\\n",
       "0           698    Spain  Female   39       9  161993.89                1   \n",
       "1           612    Spain    Male   35       1       0.00                1   \n",
       "2           601   France    Male   47       1   64430.06                2   \n",
       "3           627  Germany  Female   30       6   57809.32                1   \n",
       "4           745  Germany    Male   48      10   96048.55                1   \n",
       "\n",
       "   credit_card  active_member  estimated_salary  churn  \n",
       "0            0              0          90212.38      0  \n",
       "1            1              1          83256.26      1  \n",
       "2            0              1          96517.97      0  \n",
       "3            1              0         188258.49      0  \n",
       "4            1              0          74510.65      0  "
      ]
     },
     "execution_count": 2460,
     "metadata": {},
     "output_type": "execute_result"
    }
   ],
   "source": [
    "df = drop_variables(df,['customer_id','credit_score_group']) \n",
    "df.head()"
   ]
  },
  {
   "cell_type": "markdown",
   "id": "80609072-6d22-4d7c-ad24-e1d68df18491",
   "metadata": {
    "id": "80609072-6d22-4d7c-ad24-e1d68df18491"
   },
   "source": [
    "### Outliers o valores atípicos"
   ]
  },
  {
   "cell_type": "code",
   "execution_count": 2461,
   "id": "ba1cb809-5b02-434a-bd4e-35cf4a0bb613",
   "metadata": {
    "id": "ba1cb809-5b02-434a-bd4e-35cf4a0bb613"
   },
   "outputs": [],
   "source": [
    "def porcentajes_outliers_IQR(dataFrame):\n",
    "    \"\"\"\n",
    "    Calcula el porcentaje de outliers para las columnas numéricas de un DataFrame\n",
    "    utilizando el criterio del rango intercuartílico (IQR), excluyendo variables binarias.\n",
    "\n",
    "    Args:\n",
    "        df (pd.DataFrame): DataFrame de entrada.\n",
    "\n",
    "    Returns:\n",
    "        pd.DataFrame: DataFrame con columnas numéricas y su porcentaje de outliers,\n",
    "                      ordenadas en orden decreciente.\n",
    "    \"\"\"\n",
    "    resultados = [] #array para guardar resultados con append\n",
    "\n",
    "    for variable in dataFrame.select_dtypes(include='number').columns:\n",
    "        # Excluir variables binarias: nunique de pandas cuenta los diferentes valores de una columna. 2 binario.\n",
    "        if dataFrame[variable].nunique() == 2:\n",
    "            continue\n",
    "\n",
    "        q1 = dataFrame[variable].quantile(0.25) #calculo del q1\n",
    "        q3 = dataFrame[variable].quantile(0.75)\n",
    "        iqr = q3 - q1\n",
    "        limite_inferior = q1 - 1.5 * iqr\n",
    "        limite_superior = q3 + 1.5 * iqr\n",
    "        #print(limite_inferior,limite_superior)\n",
    "\n",
    "        # Calcular el porcentaje de outliers\n",
    "        outliers = dataFrame[(dataFrame[variable] < limite_inferior) | (dataFrame[variable] > limite_superior)] # si es menor o mayor que los limites seteados arriba se guarda en la variable outliers\n",
    "        porcentaje_outliers = (len(outliers) / len(df)) * 100 #se cuentan cuantos outliers hay por cada variable y se saca el porcentaje\n",
    "        resultados.append((variable, porcentaje_outliers)) # se guarda en el array resultados.\n",
    "\n",
    "    # Convertir a DataFrame y ordenar por porcentaje de outliers\n",
    "    outliers_df = pd.DataFrame(resultados, columns=['Variable', 'Porcentaje_Outliers'])\n",
    "    outliers_df = outliers_df[outliers_df['Porcentaje_Outliers'] > 0]\n",
    "    outliers_df = outliers_df.sort_values(by='Porcentaje_Outliers', ascending=False).reset_index(drop=True)\n",
    "\n",
    "    return outliers_df"
   ]
  },
  {
   "cell_type": "code",
   "execution_count": 2462,
   "id": "e6f287b2-8fda-454b-86af-fd1ccda4f30e",
   "metadata": {
    "colab": {
     "base_uri": "https://localhost:8080/",
     "height": 175
    },
    "id": "e6f287b2-8fda-454b-86af-fd1ccda4f30e",
    "outputId": "2949ac4c-87e7-4a6a-dd3f-55d9ab34f8b7"
   },
   "outputs": [
    {
     "name": "stdout",
     "output_type": "stream",
     "text": [
      "          Variable  Porcentaje_Outliers\n",
      "0              age                 3.59\n",
      "1  products_number                 0.60\n",
      "2     credit_score                 0.15\n"
     ]
    }
   ],
   "source": [
    "porcentaje_outlier = porcentajes_outliers_IQR(df)\n",
    "print(porcentaje_outlier)"
   ]
  },
  {
   "cell_type": "markdown",
   "id": "46accfc6-bb3d-4e40-801d-548d3c9d5d7a",
   "metadata": {
    "id": "17825475-08e1-4c57-9094-9f0ca2a1a670"
   },
   "source": [
    "A diferencia de lo que observamos en las visualizaciones preliminares y las conclusiones iniciales, solo la edad presenta un porcentaje a tomar en cuenta, de outliers. Balance y estimated_salary no presentan estos valores extremos. Se suma product_number y credit score pero ambos son muy bajos. "
   ]
  },
  {
   "cell_type": "code",
   "execution_count": 2463,
   "id": "0ee70730-0aa2-4b20-985f-2968fa7ceb9d",
   "metadata": {},
   "outputs": [],
   "source": [
    "def plot_boxplot_outliers(dataFrame, columnas_outliers):\n",
    "    \n",
    "    # Normalizá las columnas con outliers\n",
    "    scaler = MinMaxScaler() # esta clase escala los datos...entre 0 y 1 por defecto\n",
    "    df_normalized = dataFrame.copy()\n",
    "    df_normalized[columnas_outliers] = scaler.fit_transform(dataFrame[columnas_outliers]) \n",
    "\n",
    "    # grafico vertical\n",
    "    plt.figure(figsize=(len(columnas_outliers) * 2, 10))\n",
    "    sns.boxplot(data=df_normalized[columnas_outliers], orient='v')\n",
    "\n",
    "    plt.title('Variables Outliers (Normalizadas)', fontsize=14)\n",
    "    plt.ylabel('Valor Normalizado', fontsize=12)\n",
    "    plt.xlabel('Variables', fontsize=12)\n",
    "    plt.tight_layout()\n",
    "    plt.show()"
   ]
  },
  {
   "cell_type": "code",
   "execution_count": 2464,
   "id": "4edbfff7-c359-4544-bfa2-04fc4ce3d5e3",
   "metadata": {},
   "outputs": [
    {
     "data": {
      "image/png": "[encoded data removed]",
      "text/plain": [
       "<Figure size 600x1000 with 1 Axes>"
      ]
     },
     "metadata": {},
     "output_type": "display_data"
    }
   ],
   "source": [
    "plot_boxplot_outliers(df, porcentaje_outlier['Variable'].tolist())"
   ]
  },
  {
   "cell_type": "markdown",
   "id": "00e9f65f-9420-421a-92cd-500cd063f9ee",
   "metadata": {},
   "source": [
    "- Vemos que las tres variables que mencionamos antes tienen valores atipicos o outliers: age, products_number y credit_score.\n",
    "- Age: es la variable con mas outliers: posee valores extremos atípicamente altos.\n",
    "- products_number: tambien posee algún valor extremo alto pero es minimo el porcentaje.\n",
    "- credit_score: posee valores extremos atípicamente bajos. El porcentaje tambien es muy bajo. "
   ]
  },
  {
   "cell_type": "code",
   "execution_count": 2465,
   "id": "e546fbec-c3f3-49f6-972c-ae5906a8c5b7",
   "metadata": {},
   "outputs": [],
   "source": [
    "def analizar_eliminacion_outliers(dataFrame, columnas_outliers, target = None):\n",
    "\n",
    "        # límites del IQR para las columnas con outliers\n",
    "    q1 = dataFrame[columnas_outliers].quantile(0.25)\n",
    "    q3 = dataFrame[columnas_outliers].quantile(0.75)\n",
    "    iqr = q3 - q1\n",
    "\n",
    "    # Definir los límites inferior y superior para los outliers\n",
    "    limite_inferior = q1 - 1.5 * iqr\n",
    "    limite_superior = q3 + 1.5 * iqr\n",
    "\n",
    "    #filas que no tengan outliers en las columnas especificadas. de las columnas outliers se sacan las filas que tengan el valor extremo\n",
    "    sin_outliers = dataFrame[\n",
    "        ~((dataFrame[columnas_outliers] < limite_inferior) | (dataFrame[columnas_outliers] > limite_superior)).any(axis=1)\n",
    "    ]\n",
    "\n",
    "    # Calcular el porcentaje de registros restantes\n",
    "    porcentaje_restante = len(sin_outliers) / len(dataFrame) * 100\n",
    "\n",
    "    # Calcular la distribución de la columna churn antes y después de la eliminación: contamos \n",
    "    distribucion_con_outliers = dataFrame[target].value_counts(normalize=True) * 100\n",
    "    distribucion_sin_outliers = sin_outliers[target].value_counts(normalize=True) * 100\n",
    "\n",
    "    # Crear un DataFrame resumen\n",
    "    resumen = pd.DataFrame({\n",
    "        'Distribución Con Outliers (%)': distribucion_con_outliers,\n",
    "        'Distribución Sin Outliers (%)': distribucion_sin_outliers,\n",
    "    }).fillna(0)\n",
    "\n",
    "    # Imprimir resultados\n",
    "    print(f\"Porcentaje restante del dataset después de eliminar outliers: {porcentaje_restante:.2f}%\\n\")\n",
    "    print(\"Distribución de la columna de abandono (antes y después de eliminar outliers):\\n\")\n",
    "    print(resumen)\n",
    "\n",
    "    outliers = dataFrame[\n",
    "        ((dataFrame[columnas_outliers] < limite_inferior) | (dataFrame[columnas_outliers] > limite_superior)).any(axis=1)\n",
    "    ]\n",
    "    print(len(outliers))\n",
    "    \n"
   ]
  },
  {
   "cell_type": "code",
   "execution_count": 2466,
   "id": "9d6f0dbe-3eb6-4919-9c76-d5e1fab07d7c",
   "metadata": {},
   "outputs": [
    {
     "name": "stdout",
     "output_type": "stream",
     "text": [
      "Porcentaje restante del dataset después de eliminar outliers: 95.68%\n",
      "\n",
      "Distribución de la columna de abandono (antes y después de eliminar outliers):\n",
      "\n",
      "       Distribución Con Outliers (%)  Distribución Sin Outliers (%)\n",
      "churn                                                              \n",
      "0                              79.63                      80.236204\n",
      "1                              20.37                      19.763796\n",
      "432\n"
     ]
    }
   ],
   "source": [
    "analizar_eliminacion_outliers(df,porcentaje_outlier['Variable'].tolist(),'churn')"
   ]
  },
  {
   "cell_type": "markdown",
   "id": "b6e1405a-af3a-4ba9-9b5e-c6af5b2a0318",
   "metadata": {},
   "source": [
    "Como puede verse en los valores porcentuales la variación de los resultados es insignificante. Por ende no es necesario eliminar las filas con outliers. "
   ]
  },
  {
   "cell_type": "markdown",
   "id": "2be523b1-675a-4648-afb7-60785f57d80d",
   "metadata": {},
   "source": [
    "### Valores nulos"
   ]
  },
  {
   "cell_type": "markdown",
   "id": "4b8df102-b13d-4c31-87f3-4719ee93ff9a",
   "metadata": {},
   "source": [
    "Según observación premilinar no contamos con nulos. Por ende no tenemos que tratarlo. Vamos a corroborar que sea asi: "
   ]
  },
  {
   "cell_type": "code",
   "execution_count": 2467,
   "id": "7abc1e0c-d487-4b55-9f3a-5b6a3b4d6334",
   "metadata": {},
   "outputs": [],
   "source": [
    "def calcular_porcentaje_nulos(dataFrame):\n",
    "    \n",
    "    # porcentaje de nulos\n",
    "    porcentaje_nulos = dataFrame.isnull().mean() * 100 #isnull nos devuelve los nulos\n",
    "\n",
    "    # Filtrar columnas con nulos y ordenar en orden decreciente\n",
    "    nulos = (porcentaje_nulos[porcentaje_nulos > 0]\n",
    "                .sort_values(ascending=False)\n",
    "                .reset_index())\n",
    "    nulos.columns = ['Variable', 'porcentaje_nulos']\n",
    "\n",
    "    return nulos"
   ]
  },
  {
   "cell_type": "code",
   "execution_count": 2468,
   "id": "6f7eeb5b-914c-4f02-9cd2-bc89054cbb28",
   "metadata": {},
   "outputs": [
    {
     "data": {
      "text/html": [
       "<div>\n",
       "<style scoped>\n",
       "    .dataframe tbody tr th:only-of-type {\n",
       "        vertical-align: middle;\n",
       "    }\n",
       "\n",
       "    .dataframe tbody tr th {\n",
       "        vertical-align: top;\n",
       "    }\n",
       "\n",
       "    .dataframe thead th {\n",
       "        text-align: right;\n",
       "    }\n",
       "</style>\n",
       "<table border=\"1\" class=\"dataframe\">\n",
       "  <thead>\n",
       "    <tr style=\"text-align: right;\">\n",
       "      <th></th>\n",
       "      <th>Variable</th>\n",
       "      <th>porcentaje_nulos</th>\n",
       "    </tr>\n",
       "  </thead>\n",
       "  <tbody>\n",
       "  </tbody>\n",
       "</table>\n",
       "</div>"
      ],
      "text/plain": [
       "Empty DataFrame\n",
       "Columns: [Variable, porcentaje_nulos]\n",
       "Index: []"
      ]
     },
     "execution_count": 2468,
     "metadata": {},
     "output_type": "execute_result"
    }
   ],
   "source": [
    "calcular_porcentaje_nulos(df)"
   ]
  },
  {
   "cell_type": "markdown",
   "id": "acf1cb35-11fb-40a5-a2c5-298696b36df8",
   "metadata": {},
   "source": [
    "Tal como anticipamos no tenemos valores nulos. "
   ]
  },
  {
   "cell_type": "markdown",
   "id": "45eccf10-3c6f-414e-858d-1c9f0443ae3f",
   "metadata": {},
   "source": [
    "### Datos sinteticos"
   ]
  },
  {
   "cell_type": "code",
   "execution_count": 2469,
   "id": "a9f12674-a9ed-4b2b-bd1a-130b00479c5b",
   "metadata": {},
   "outputs": [],
   "source": [
    "def generate_customer_data(num_records):\n",
    "    data = []\n",
    "    for _ in range(num_records):\n",
    "        age = np.random.randint(18, 80)\n",
    "        \n",
    "        # Rule: Income is loosely based on age\n",
    "        #base_balance = 20000 + (age - 18) * 1000 uniform\n",
    "        #balance = np.random.normal(base_balance, base_balance * 0.2)\n",
    "        balance = np.random.uniform(0,250000)\n",
    "        # Rule: Credit score is influenced by age and income\n",
    "        #credit_score = min(850, max(300, int(600 + (age/80)*100 + (balance/100000)*100 + np.random.normal(0, 50))))\n",
    "        credit_score =    np.random.randint(350,850)\n",
    "        # Rule: Loan amount is based on income and credit score\n",
    "        max_estimated_salary = np.random.uniform(0,200000)\n",
    "        estimated_salary = np.random.uniform(0, max_estimated_salary)\n",
    "        gender = np.random.choice(['Male', 'Female'])\n",
    "        country = np.random.choice(['France', 'Spain','Germany'])\n",
    "        tenure = np.random.randint(1, 11)\n",
    "        products_number = np.random.randint(1, 5)\n",
    "        credit_card = np.random.randint(0, 2)\n",
    "        active_member = np.random.randint(0, 2)\n",
    "        churn = np.random.randint(1,2)\n",
    "        \n",
    "        data.append([credit_score, country, gender, age,tenure,balance,products_number,credit_card,active_member,estimated_salary,churn])\n",
    "   \n",
    "    return pd.DataFrame(data,columns=['credit_score', 'country', 'gender', 'age','tenure','balance','products_number',\n",
    "                                      'credit_card','active_member','estimated_salary','churn'])"
   ]
  },
  {
   "cell_type": "code",
   "execution_count": 2470,
   "id": "b0126e5c-ef5f-4bd8-bcc4-fe66ca5a27f1",
   "metadata": {},
   "outputs": [
    {
     "data": {
      "text/html": [
       "<div>\n",
       "<style scoped>\n",
       "    .dataframe tbody tr th:only-of-type {\n",
       "        vertical-align: middle;\n",
       "    }\n",
       "\n",
       "    .dataframe tbody tr th {\n",
       "        vertical-align: top;\n",
       "    }\n",
       "\n",
       "    .dataframe thead th {\n",
       "        text-align: right;\n",
       "    }\n",
       "</style>\n",
       "<table border=\"1\" class=\"dataframe\">\n",
       "  <thead>\n",
       "    <tr style=\"text-align: right;\">\n",
       "      <th></th>\n",
       "      <th>credit_score</th>\n",
       "      <th>country</th>\n",
       "      <th>gender</th>\n",
       "      <th>age</th>\n",
       "      <th>tenure</th>\n",
       "      <th>balance</th>\n",
       "      <th>products_number</th>\n",
       "      <th>credit_card</th>\n",
       "      <th>active_member</th>\n",
       "      <th>estimated_salary</th>\n",
       "      <th>churn</th>\n",
       "    </tr>\n",
       "  </thead>\n",
       "  <tbody>\n",
       "    <tr>\n",
       "      <th>0</th>\n",
       "      <td>698</td>\n",
       "      <td>Spain</td>\n",
       "      <td>Female</td>\n",
       "      <td>39</td>\n",
       "      <td>9</td>\n",
       "      <td>161993.89</td>\n",
       "      <td>1</td>\n",
       "      <td>0</td>\n",
       "      <td>0</td>\n",
       "      <td>90212.38</td>\n",
       "      <td>0</td>\n",
       "    </tr>\n",
       "    <tr>\n",
       "      <th>1</th>\n",
       "      <td>612</td>\n",
       "      <td>Spain</td>\n",
       "      <td>Male</td>\n",
       "      <td>35</td>\n",
       "      <td>1</td>\n",
       "      <td>0.00</td>\n",
       "      <td>1</td>\n",
       "      <td>1</td>\n",
       "      <td>1</td>\n",
       "      <td>83256.26</td>\n",
       "      <td>1</td>\n",
       "    </tr>\n",
       "    <tr>\n",
       "      <th>2</th>\n",
       "      <td>601</td>\n",
       "      <td>France</td>\n",
       "      <td>Male</td>\n",
       "      <td>47</td>\n",
       "      <td>1</td>\n",
       "      <td>64430.06</td>\n",
       "      <td>2</td>\n",
       "      <td>0</td>\n",
       "      <td>1</td>\n",
       "      <td>96517.97</td>\n",
       "      <td>0</td>\n",
       "    </tr>\n",
       "    <tr>\n",
       "      <th>3</th>\n",
       "      <td>627</td>\n",
       "      <td>Germany</td>\n",
       "      <td>Female</td>\n",
       "      <td>30</td>\n",
       "      <td>6</td>\n",
       "      <td>57809.32</td>\n",
       "      <td>1</td>\n",
       "      <td>1</td>\n",
       "      <td>0</td>\n",
       "      <td>188258.49</td>\n",
       "      <td>0</td>\n",
       "    </tr>\n",
       "    <tr>\n",
       "      <th>4</th>\n",
       "      <td>745</td>\n",
       "      <td>Germany</td>\n",
       "      <td>Male</td>\n",
       "      <td>48</td>\n",
       "      <td>10</td>\n",
       "      <td>96048.55</td>\n",
       "      <td>1</td>\n",
       "      <td>1</td>\n",
       "      <td>0</td>\n",
       "      <td>74510.65</td>\n",
       "      <td>0</td>\n",
       "    </tr>\n",
       "  </tbody>\n",
       "</table>\n",
       "</div>"
      ],
      "text/plain": [
       "   credit_score  country  gender  age  tenure    balance  products_number  \\\n",
       "0           698    Spain  Female   39       9  161993.89                1   \n",
       "1           612    Spain    Male   35       1       0.00                1   \n",
       "2           601   France    Male   47       1   64430.06                2   \n",
       "3           627  Germany  Female   30       6   57809.32                1   \n",
       "4           745  Germany    Male   48      10   96048.55                1   \n",
       "\n",
       "   credit_card  active_member  estimated_salary  churn  \n",
       "0            0              0          90212.38      0  \n",
       "1            1              1          83256.26      1  \n",
       "2            0              1          96517.97      0  \n",
       "3            1              0         188258.49      0  \n",
       "4            1              0          74510.65      0  "
      ]
     },
     "execution_count": 2470,
     "metadata": {},
     "output_type": "execute_result"
    }
   ],
   "source": [
    "df1 = generate_customer_data(5000)\n",
    "df = pd.concat([df, df1], ignore_index=True)\n",
    "df.head()"
   ]
  },
  {
   "cell_type": "markdown",
   "id": "79b88bba-104d-4035-8e1c-2848a388d7c0",
   "metadata": {},
   "source": [
    "### Encoding y normalizado"
   ]
  },
  {
   "cell_type": "markdown",
   "id": "3904ef70-950c-4b56-aa1e-10ee5c8d10dc",
   "metadata": {},
   "source": [
    "Transformamos las variables categoricas a numeros. "
   ]
  },
  {
   "cell_type": "code",
   "execution_count": 2471,
   "id": "e8307e90-f850-4aca-81c9-8a35fb47fedc",
   "metadata": {},
   "outputs": [],
   "source": [
    "def preprocesar_data(dataFrame):\n",
    "    \n",
    "    #- Realiza One Hot Encoding en variables categóricas con <= 8 categorías.\n",
    "    #- Realiza Label Encoding en variables categóricas con > 8 categorías.\n",
    "    #- Normaliza las variables numéricas entre 0 y 1.\n",
    "    \n",
    "    # Inicializamos los transformadores: las clases. \n",
    "    onehot_encoder = OneHotEncoder(sparse_output=False) #Drop por defecto es none. \n",
    "    label_encoder = LabelEncoder()\n",
    "    scaler = MinMaxScaler()\n",
    "\n",
    "    # Variables categóricas y numéricas\n",
    "    categorias = dataFrame.select_dtypes(include=['object']).columns\n",
    "    numericas = dataFrame.select_dtypes(exclude=['object']).columns\n",
    "\n",
    "    # Si bien nuestro dataset no tiene variables categoricas mayores a 8 dejamos el label para futura data\n",
    "    for col in categorias:\n",
    "        if dataFrame[col].nunique() <= 8:\n",
    "            encoded = onehot_encoder.fit_transform(dataFrame[[col]])\n",
    "            encoded_df = pd.DataFrame(encoded, columns=onehot_encoder.get_feature_names_out([col]))\n",
    "            dataFrame = pd.concat([dataFrame, encoded_df], axis=1)\n",
    "            dataFrame.drop(columns=[col], inplace=True)\n",
    "        else:\n",
    "            dataFrame[col] = label_encoder.fit_transform(dataFrame[col])\n",
    "\n",
    "    # Normalizamos las variables numéricas\n",
    "    # Inicializar los escaladores\n",
    "    standard_scaler = StandardScaler()\n",
    "    minmax_scaler = MinMaxScaler()\n",
    "\n",
    "   # Iterar sobre las columnas numéricas y aplicar el escalado apropiado\n",
    "    for col in numericas:\n",
    "        if col !='churn':\n",
    "        # Calcular skewness de la columna\n",
    "            skewness = skew(dataFrame[col])\n",
    "\n",
    "            # Escalar dependiendo del skewness\n",
    "            if abs(skewness) > 1:\n",
    "                # Si el skewness es alto, usamos MinMaxScaler\n",
    "                dataFrame[col] = minmax_scaler.fit_transform(dataFrame[[col]])\n",
    "            else:\n",
    "                # Si el skewness es bajo, usamos StandardScaler\n",
    "                dataFrame[col] = standard_scaler.fit_transform(dataFrame[[col]])\n",
    "\n",
    "    return dataFrame"
   ]
  },
  {
   "cell_type": "code",
   "execution_count": 2472,
   "id": "7a52f3f8-e69a-4dac-9207-af0d1d58f863",
   "metadata": {},
   "outputs": [],
   "source": [
    "df = preprocesar_data(df)"
   ]
  },
  {
   "cell_type": "code",
   "execution_count": 2473,
   "id": "2d6dec52-0a3e-417c-83a9-726a49b953a1",
   "metadata": {},
   "outputs": [
    {
     "data": {
      "text/html": [
       "<div>\n",
       "<style scoped>\n",
       "    .dataframe tbody tr th:only-of-type {\n",
       "        vertical-align: middle;\n",
       "    }\n",
       "\n",
       "    .dataframe tbody tr th {\n",
       "        vertical-align: top;\n",
       "    }\n",
       "\n",
       "    .dataframe thead th {\n",
       "        text-align: right;\n",
       "    }\n",
       "</style>\n",
       "<table border=\"1\" class=\"dataframe\">\n",
       "  <thead>\n",
       "    <tr style=\"text-align: right;\">\n",
       "      <th></th>\n",
       "      <th>credit_score</th>\n",
       "      <th>age</th>\n",
       "      <th>tenure</th>\n",
       "      <th>balance</th>\n",
       "      <th>products_number</th>\n",
       "      <th>credit_card</th>\n",
       "      <th>active_member</th>\n",
       "      <th>estimated_salary</th>\n",
       "      <th>churn</th>\n",
       "      <th>country_France</th>\n",
       "      <th>country_Germany</th>\n",
       "      <th>country_Spain</th>\n",
       "      <th>gender_Female</th>\n",
       "      <th>gender_Male</th>\n",
       "    </tr>\n",
       "  </thead>\n",
       "  <tbody>\n",
       "    <tr>\n",
       "      <th>0</th>\n",
       "      <td>0.545079</td>\n",
       "      <td>-0.209042</td>\n",
       "      <td>1.326598</td>\n",
       "      <td>1.007164</td>\n",
       "      <td>-0.925204</td>\n",
       "      <td>-1.324697</td>\n",
       "      <td>-1.015724</td>\n",
       "      <td>0.122192</td>\n",
       "      <td>0</td>\n",
       "      <td>0.0</td>\n",
       "      <td>0.0</td>\n",
       "      <td>1.0</td>\n",
       "      <td>1.0</td>\n",
       "      <td>0.0</td>\n",
       "    </tr>\n",
       "    <tr>\n",
       "      <th>1</th>\n",
       "      <td>-0.186596</td>\n",
       "      <td>-0.492035</td>\n",
       "      <td>-1.447261</td>\n",
       "      <td>-1.328011</td>\n",
       "      <td>-0.925204</td>\n",
       "      <td>0.754890</td>\n",
       "      <td>0.984520</td>\n",
       "      <td>0.003101</td>\n",
       "      <td>1</td>\n",
       "      <td>0.0</td>\n",
       "      <td>0.0</td>\n",
       "      <td>1.0</td>\n",
       "      <td>0.0</td>\n",
       "      <td>1.0</td>\n",
       "    </tr>\n",
       "    <tr>\n",
       "      <th>2</th>\n",
       "      <td>-0.280182</td>\n",
       "      <td>0.356944</td>\n",
       "      <td>-1.447261</td>\n",
       "      <td>-0.399239</td>\n",
       "      <td>0.155053</td>\n",
       "      <td>-1.324697</td>\n",
       "      <td>0.984520</td>\n",
       "      <td>0.230145</td>\n",
       "      <td>0</td>\n",
       "      <td>1.0</td>\n",
       "      <td>0.0</td>\n",
       "      <td>0.0</td>\n",
       "      <td>0.0</td>\n",
       "      <td>1.0</td>\n",
       "    </tr>\n",
       "    <tr>\n",
       "      <th>3</th>\n",
       "      <td>-0.058978</td>\n",
       "      <td>-0.845776</td>\n",
       "      <td>0.286401</td>\n",
       "      <td>-0.494678</td>\n",
       "      <td>-0.925204</td>\n",
       "      <td>0.754890</td>\n",
       "      <td>-1.015724</td>\n",
       "      <td>1.800768</td>\n",
       "      <td>0</td>\n",
       "      <td>0.0</td>\n",
       "      <td>1.0</td>\n",
       "      <td>0.0</td>\n",
       "      <td>1.0</td>\n",
       "      <td>0.0</td>\n",
       "    </tr>\n",
       "    <tr>\n",
       "      <th>4</th>\n",
       "      <td>0.944948</td>\n",
       "      <td>0.427692</td>\n",
       "      <td>1.673330</td>\n",
       "      <td>0.056548</td>\n",
       "      <td>-0.925204</td>\n",
       "      <td>0.754890</td>\n",
       "      <td>-1.015724</td>\n",
       "      <td>-0.146626</td>\n",
       "      <td>0</td>\n",
       "      <td>0.0</td>\n",
       "      <td>1.0</td>\n",
       "      <td>0.0</td>\n",
       "      <td>0.0</td>\n",
       "      <td>1.0</td>\n",
       "    </tr>\n",
       "    <tr>\n",
       "      <th>5</th>\n",
       "      <td>-0.867223</td>\n",
       "      <td>-0.279790</td>\n",
       "      <td>1.326598</td>\n",
       "      <td>-1.328011</td>\n",
       "      <td>0.155053</td>\n",
       "      <td>-1.324697</td>\n",
       "      <td>-1.015724</td>\n",
       "      <td>-0.898664</td>\n",
       "      <td>0</td>\n",
       "      <td>1.0</td>\n",
       "      <td>0.0</td>\n",
       "      <td>0.0</td>\n",
       "      <td>0.0</td>\n",
       "      <td>1.0</td>\n",
       "    </tr>\n",
       "    <tr>\n",
       "      <th>6</th>\n",
       "      <td>-0.024947</td>\n",
       "      <td>-0.916524</td>\n",
       "      <td>-0.753796</td>\n",
       "      <td>-1.328011</td>\n",
       "      <td>0.155053</td>\n",
       "      <td>0.754890</td>\n",
       "      <td>0.984520</td>\n",
       "      <td>1.966920</td>\n",
       "      <td>0</td>\n",
       "      <td>0.0</td>\n",
       "      <td>0.0</td>\n",
       "      <td>1.0</td>\n",
       "      <td>0.0</td>\n",
       "      <td>1.0</td>\n",
       "    </tr>\n",
       "    <tr>\n",
       "      <th>7</th>\n",
       "      <td>1.795732</td>\n",
       "      <td>-0.987272</td>\n",
       "      <td>1.326598</td>\n",
       "      <td>-1.328011</td>\n",
       "      <td>0.155053</td>\n",
       "      <td>0.754890</td>\n",
       "      <td>0.984520</td>\n",
       "      <td>-0.460350</td>\n",
       "      <td>0</td>\n",
       "      <td>1.0</td>\n",
       "      <td>0.0</td>\n",
       "      <td>0.0</td>\n",
       "      <td>1.0</td>\n",
       "      <td>0.0</td>\n",
       "    </tr>\n",
       "    <tr>\n",
       "      <th>8</th>\n",
       "      <td>0.638665</td>\n",
       "      <td>-0.209042</td>\n",
       "      <td>0.979865</td>\n",
       "      <td>-1.328011</td>\n",
       "      <td>0.155053</td>\n",
       "      <td>0.754890</td>\n",
       "      <td>-1.015724</td>\n",
       "      <td>-0.459869</td>\n",
       "      <td>0</td>\n",
       "      <td>1.0</td>\n",
       "      <td>0.0</td>\n",
       "      <td>0.0</td>\n",
       "      <td>0.0</td>\n",
       "      <td>1.0</td>\n",
       "    </tr>\n",
       "    <tr>\n",
       "      <th>9</th>\n",
       "      <td>0.162226</td>\n",
       "      <td>0.144699</td>\n",
       "      <td>0.979865</td>\n",
       "      <td>-1.328011</td>\n",
       "      <td>0.155053</td>\n",
       "      <td>0.754890</td>\n",
       "      <td>0.984520</td>\n",
       "      <td>1.225206</td>\n",
       "      <td>0</td>\n",
       "      <td>1.0</td>\n",
       "      <td>0.0</td>\n",
       "      <td>0.0</td>\n",
       "      <td>0.0</td>\n",
       "      <td>1.0</td>\n",
       "    </tr>\n",
       "  </tbody>\n",
       "</table>\n",
       "</div>"
      ],
      "text/plain": [
       "   credit_score       age    tenure   balance  products_number  credit_card  \\\n",
       "0      0.545079 -0.209042  1.326598  1.007164        -0.925204    -1.324697   \n",
       "1     -0.186596 -0.492035 -1.447261 -1.328011        -0.925204     0.754890   \n",
       "2     -0.280182  0.356944 -1.447261 -0.399239         0.155053    -1.324697   \n",
       "3     -0.058978 -0.845776  0.286401 -0.494678        -0.925204     0.754890   \n",
       "4      0.944948  0.427692  1.673330  0.056548        -0.925204     0.754890   \n",
       "5     -0.867223 -0.279790  1.326598 -1.328011         0.155053    -1.324697   \n",
       "6     -0.024947 -0.916524 -0.753796 -1.328011         0.155053     0.754890   \n",
       "7      1.795732 -0.987272  1.326598 -1.328011         0.155053     0.754890   \n",
       "8      0.638665 -0.209042  0.979865 -1.328011         0.155053     0.754890   \n",
       "9      0.162226  0.144699  0.979865 -1.328011         0.155053     0.754890   \n",
       "\n",
       "   active_member  estimated_salary  churn  country_France  country_Germany  \\\n",
       "0      -1.015724          0.122192      0             0.0              0.0   \n",
       "1       0.984520          0.003101      1             0.0              0.0   \n",
       "2       0.984520          0.230145      0             1.0              0.0   \n",
       "3      -1.015724          1.800768      0             0.0              1.0   \n",
       "4      -1.015724         -0.146626      0             0.0              1.0   \n",
       "5      -1.015724         -0.898664      0             1.0              0.0   \n",
       "6       0.984520          1.966920      0             0.0              0.0   \n",
       "7       0.984520         -0.460350      0             1.0              0.0   \n",
       "8      -1.015724         -0.459869      0             1.0              0.0   \n",
       "9       0.984520          1.225206      0             1.0              0.0   \n",
       "\n",
       "   country_Spain  gender_Female  gender_Male  \n",
       "0            1.0            1.0          0.0  \n",
       "1            1.0            0.0          1.0  \n",
       "2            0.0            0.0          1.0  \n",
       "3            0.0            1.0          0.0  \n",
       "4            0.0            0.0          1.0  \n",
       "5            0.0            0.0          1.0  \n",
       "6            1.0            0.0          1.0  \n",
       "7            0.0            1.0          0.0  \n",
       "8            0.0            0.0          1.0  \n",
       "9            0.0            0.0          1.0  "
      ]
     },
     "execution_count": 2473,
     "metadata": {},
     "output_type": "execute_result"
    }
   ],
   "source": [
    "df.head(10)"
   ]
  },
  {
   "cell_type": "markdown",
   "id": "9feb3854-3ce1-48ee-b52a-80b5c79ea02f",
   "metadata": {},
   "source": [
    "## Construcción de Modelos"
   ]
  },
  {
   "cell_type": "markdown",
   "id": "5a99170f-f83a-406d-a15a-f45aff3adec1",
   "metadata": {},
   "source": [
    "Aca se construyen los modelos con los datos refinados y preprocesados. Se entrena el mismo y se testea.  "
   ]
  },
  {
   "cell_type": "markdown",
   "id": "e739e29f-d5f6-45a5-95fb-3be55366131a",
   "metadata": {},
   "source": [
    "### Funciones y variables comunes"
   ]
  },
  {
   "cell_type": "code",
   "execution_count": 2474,
   "id": "8b84833e-8e97-4814-966d-cc33b252b3e1",
   "metadata": {},
   "outputs": [],
   "source": [
    "semilla = 42"
   ]
  },
  {
   "cell_type": "code",
   "execution_count": 2475,
   "id": "59beee4a-715d-4e12-a9f6-f9184a818b62",
   "metadata": {},
   "outputs": [],
   "source": [
    "def prepare_train_test_split(target):\n",
    "\n",
    "    X = df.drop(columns=target) # todo menos la variable objetivo\n",
    "    y = df[target]\n",
    "\n",
    "    X_train, X_test, y_train, y_test = train_test_split(X, y, test_size=0.3, random_state=semilla)\n",
    "\n",
    "    print(f\"Tamaño de X_train: {X_train.shape}\")\n",
    "    print(f\"Tamaño de X_test: {X_test.shape}\")\n",
    "    print(f\"Tamaño de y_train: {y_train.shape}\")\n",
    "    print(f\"Tamaño de y_test: {y_test.shape}\")\n",
    "\n",
    "    return X_train, X_test, y_train, y_test"
   ]
  },
  {
   "cell_type": "code",
   "execution_count": 2476,
   "id": "914c29ae-22d4-4804-a329-23cf173e12e7",
   "metadata": {},
   "outputs": [],
   "source": [
    "def entrenar_modelo(algoritmo,X_train, y_train, X_test,tf=False):\n",
    "    start = time.time()\n",
    "    #Entrenamiento modelo\n",
    "    if tf:\n",
    "        algoritmo.fit(X_train, y_train)\n",
    "    else:\n",
    "        modelo = algoritmo.fit(X_train, y_train)\n",
    "    end = time.time()\n",
    "    tiempo_ejecucion = end - start\n",
    "\n",
    "    # Prediccion\n",
    "    y_pred = algoritmo.predict(X_test) if not tf else np.where(algoritmo.predict(X_test) > 0.5, 1, 0)\n",
    "    return tiempo_ejecucion, y_pred"
   ]
  },
  {
   "cell_type": "code",
   "execution_count": 2477,
   "id": "6fa1ded5-d67a-48f2-b92e-ec3c96b19df9",
   "metadata": {},
   "outputs": [
    {
     "name": "stdout",
     "output_type": "stream",
     "text": [
      "Tamaño de X_train: (10500, 13)\n",
      "Tamaño de X_test: (4500, 13)\n",
      "Tamaño de y_train: (10500,)\n",
      "Tamaño de y_test: (4500,)\n"
     ]
    }
   ],
   "source": [
    "X_train, X_test, y_train, y_test = prepare_train_test_split('churn')"
   ]
  },
  {
   "cell_type": "markdown",
   "id": "1abdfaa9-87db-47f8-9956-99134565bf0d",
   "metadata": {},
   "source": [
    "### Árbol de Decisión"
   ]
  },
  {
   "cell_type": "code",
   "execution_count": 2478,
   "id": "72ea8adb-cfff-48d2-87ff-65ea896595e0",
   "metadata": {},
   "outputs": [],
   "source": [
    "algoritmo_arbol = DecisionTreeClassifier(\n",
    "    criterion='entropy',\n",
    "    max_depth=4,\n",
    "    random_state = semilla)"
   ]
  },
  {
   "cell_type": "code",
   "execution_count": 2479,
   "id": "6e9cdfea-0fae-40d6-8fcb-24985375c8f1",
   "metadata": {},
   "outputs": [],
   "source": [
    "arbol_decision_tiempo, arbol_decision_prediccion = entrenar_modelo(algoritmo_arbol,X_train, y_train, X_test)"
   ]
  },
  {
   "cell_type": "code",
   "execution_count": 2480,
   "id": "a9e9e4a9-9170-4877-b38e-80b496e4c3a8",
   "metadata": {},
   "outputs": [
    {
     "name": "stdout",
     "output_type": "stream",
     "text": [
      "0.018597841262817383 [1 0 1 ... 1 0 1]\n"
     ]
    }
   ],
   "source": [
    "print(arbol_decision_tiempo, arbol_decision_prediccion)"
   ]
  },
  {
   "cell_type": "markdown",
   "id": "ec63f741-95fa-44fc-a82f-ffd08414d031",
   "metadata": {},
   "source": [
    "### Random Forest"
   ]
  },
  {
   "cell_type": "code",
   "execution_count": 2481,
   "id": "4fa2a784-a203-42af-a152-4be152e1f99b",
   "metadata": {},
   "outputs": [],
   "source": [
    "algoritmo_random = RandomForestClassifier(\n",
    "    n_estimators=100,\n",
    "    max_depth=10,\n",
    "    random_state=semilla,\n",
    "    class_weight='balanced'\n",
    ")"
   ]
  },
  {
   "cell_type": "code",
   "execution_count": 2482,
   "id": "ba1d6c9f-b752-4525-9821-dfb9500b20ed",
   "metadata": {},
   "outputs": [],
   "source": [
    "random_forest_tiempo,random_forest_prediccion = entrenar_modelo(algoritmo_random,X_train, y_train, X_test)"
   ]
  },
  {
   "cell_type": "code",
   "execution_count": 2483,
   "id": "92301b8a-86b2-43a4-a1c8-4009ea6d7396",
   "metadata": {},
   "outputs": [
    {
     "name": "stdout",
     "output_type": "stream",
     "text": [
      "0.6009464263916016 [1 0 1 ... 1 0 1]\n"
     ]
    }
   ],
   "source": [
    "print(random_forest_tiempo,random_forest_prediccion)"
   ]
  },
  {
   "cell_type": "markdown",
   "id": "a9d35f70-4d44-4d39-8af2-b377232d9b3d",
   "metadata": {},
   "source": [
    "### Regresión Logística"
   ]
  },
  {
   "cell_type": "code",
   "execution_count": 2484,
   "id": "8ffac12a-8a69-4efe-889e-6a651b0e836d",
   "metadata": {},
   "outputs": [],
   "source": [
    "algoritmo_regresion = LogisticRegression(\n",
    "    solver='liblinear',\n",
    "    random_state=semilla,class_weight= 'balanced') #"
   ]
  },
  {
   "cell_type": "code",
   "execution_count": 2485,
   "id": "0a61f429-7da5-4c1c-94bd-65ce8129a0ef",
   "metadata": {},
   "outputs": [],
   "source": [
    "regresion_tiempo, regresion_prediccion = entrenar_modelo(algoritmo_regresion,X_train, y_train, X_test)"
   ]
  },
  {
   "cell_type": "code",
   "execution_count": 2486,
   "id": "3c7d7e38-9bd9-46eb-8023-dd5065e39ef9",
   "metadata": {},
   "outputs": [
    {
     "name": "stdout",
     "output_type": "stream",
     "text": [
      "0.014424800872802734 [1 1 1 ... 1 0 0]\n"
     ]
    }
   ],
   "source": [
    "print(regresion_tiempo, regresion_prediccion)"
   ]
  },
  {
   "cell_type": "markdown",
   "id": "c6a80cc7-6dfb-4089-bf4f-5a1afb8bdf1b",
   "metadata": {},
   "source": [
    "## Validación de modelos"
   ]
  },
  {
   "cell_type": "markdown",
   "id": "1dfe3e48-21ba-4989-b9fb-594e3f7fcdd7",
   "metadata": {},
   "source": [
    "Aca vamos a validar nuestros modelos con las métricas más utilizadas para los modelos de clasificación, incluyendo a la matriz de confusión"
   ]
  },
  {
   "cell_type": "markdown",
   "id": "d99909b0-dd0b-4545-b7f9-4aff5e2d1efa",
   "metadata": {},
   "source": [
    "### Funciones y variables comunes"
   ]
  },
  {
   "cell_type": "code",
   "execution_count": 2487,
   "id": "43b6ddcc-3a3e-4403-859f-8497102f6aa8",
   "metadata": {},
   "outputs": [],
   "source": [
    "def guardar_y_mostrar_resultados(modelo, y_test, y_pred, tiempo): \n",
    "\n",
    "    # metricas\n",
    "    accuracy = accuracy_score(y_test, y_pred)\n",
    "    precision = precision_score(y_test, y_pred)\n",
    "    recall = recall_score(y_test, y_pred)\n",
    "    rocauc = roc_auc_score(y_test, y_pred)\n",
    "    f1 = f1_score(y_test, y_pred)\n",
    "\n",
    "    resultados_dict = {\n",
    "        'Model': [modelo],\n",
    "        'Accuracy': [accuracy],\n",
    "        'Precision': [precision],\n",
    "        'Recall': [recall],\n",
    "        'ROCAUC': [rocauc],\n",
    "        'F1-Score': [f1],\n",
    "        'Time': [tiempo]\n",
    "    }\n",
    "\n",
    "    resultados_model = pd.DataFrame(resultados_dict)\n",
    "    #global resultados_modelo\n",
    "    #resultados_modelo = pd.concat([resultados_modelo, resultados_model], ignore_index=True)\n",
    "\n",
    "    print(\"Resultados para el modelo:\", modelo)\n",
    "    print(resultados_model, \"\\n\")\n",
    "\n"
   ]
  },
  {
   "cell_type": "code",
   "execution_count": 2488,
   "id": "b5cf435e-9528-45b8-ae78-475c588e99f1",
   "metadata": {},
   "outputs": [],
   "source": [
    "def matriz_confusion(y_test, y_pred):\n",
    "    fig, ax = plt.subplots(nrows=1, ncols=2, figsize=(12, 4))\n",
    "\n",
    "    # Matriz de confusión sin normalizar\n",
    "    configuracion_matrix = confusion_matrix(y_test, y_pred)\n",
    "    sns.heatmap(configuracion_matrix,\n",
    "                xticklabels=['OK (P)', 'Abandona (P)'],\n",
    "                yticklabels=['OK', 'Abandona'],\n",
    "                annot=True, fmt='d',\n",
    "                ax=ax[0],\n",
    "                square=True, linewidth=1)\n",
    "    ax[0].set_title('Sin Normalizar')\n",
    "    ax[0].set_xlabel('Predicción')\n",
    "    ax[0].set_ylabel('Clase Verdadera')\n",
    "\n",
    "    # Matriz de confusión normalizada\n",
    "    configuracion_matrix_norm = configuracion_matrix.astype('float') / configuracion_matrix.sum()\n",
    "    sns.heatmap(configuracion_matrix_norm,\n",
    "                xticklabels=['OK (P)', 'Abandona (P)'],\n",
    "                yticklabels=['OK', 'Abandona'],\n",
    "                annot=True, fmt='.2%',\n",
    "                ax=ax[1],\n",
    "                square=True, linewidth=1)\n",
    "    ax[1].set_title('Normalizada')\n",
    "    ax[1].set_xlabel('Predicción')\n",
    "    ax[1].set_ylabel('Clase Verdadera')\n",
    "\n",
    "    # Título general\n",
    "    plt.suptitle('Matriz de Confusión')\n",
    "    plt.show()\n",
    "    print (classification_report(y_test, y_pred))\n"
   ]
  },
  {
   "cell_type": "markdown",
   "id": "d5e2a9dd-c153-480f-9700-87ff8cdcb894",
   "metadata": {},
   "source": [
    "### Árbol de Decisión"
   ]
  },
  {
   "cell_type": "code",
   "execution_count": 2489,
   "id": "6aba806f-827f-41c2-97c0-211f70a36c52",
   "metadata": {},
   "outputs": [
    {
     "name": "stdout",
     "output_type": "stream",
     "text": [
      "Resultados para el modelo: Arbol de decision´\n",
      "                Model  Accuracy  Precision    Recall    ROCAUC  F1-Score  \\\n",
      "0  Arbol de decision´  0.827556   0.852581  0.762494  0.823515  0.805025   \n",
      "\n",
      "       Time  \n",
      "0  0.018598   \n",
      "\n"
     ]
    },
    {
     "data": {
      "image/png": "[encoded data removed]",
      "text/plain": [
       "<Figure size 1200x400 with 4 Axes>"
      ]
     },
     "metadata": {},
     "output_type": "display_data"
    },
    {
     "name": "stdout",
     "output_type": "stream",
     "text": [
      "              precision    recall  f1-score   support\n",
      "\n",
      "           0       0.81      0.88      0.85      2399\n",
      "           1       0.85      0.76      0.81      2101\n",
      "\n",
      "    accuracy                           0.83      4500\n",
      "   macro avg       0.83      0.82      0.83      4500\n",
      "weighted avg       0.83      0.83      0.83      4500\n",
      "\n"
     ]
    }
   ],
   "source": [
    "guardar_y_mostrar_resultados('Arbol de decision´', y_test,arbol_decision_prediccion,arbol_decision_tiempo)\n",
    "matriz_confusion(y_test,arbol_decision_prediccion )"
   ]
  },
  {
   "cell_type": "markdown",
   "id": "8c51e713-ebdf-4235-aee3-fa01a573a829",
   "metadata": {},
   "source": [
    "### Random Forest"
   ]
  },
  {
   "cell_type": "code",
   "execution_count": 2490,
   "id": "ce37af32-8e59-427b-bc48-88addb77d56e",
   "metadata": {},
   "outputs": [
    {
     "name": "stdout",
     "output_type": "stream",
     "text": [
      "Resultados para el modelo: Random Forest\n",
      "           Model  Accuracy  Precision   Recall    ROCAUC  F1-Score      Time\n",
      "0  Random Forest  0.856889   0.888948  0.79248  0.852888  0.837947  0.600946 \n",
      "\n"
     ]
    },
    {
     "data": {
      "image/png": "[encoded data removed]",
      "text/plain": [
       "<Figure size 1200x400 with 4 Axes>"
      ]
     },
     "metadata": {},
     "output_type": "display_data"
    },
    {
     "name": "stdout",
     "output_type": "stream",
     "text": [
      "              precision    recall  f1-score   support\n",
      "\n",
      "           0       0.83      0.91      0.87      2399\n",
      "           1       0.89      0.79      0.84      2101\n",
      "\n",
      "    accuracy                           0.86      4500\n",
      "   macro avg       0.86      0.85      0.85      4500\n",
      "weighted avg       0.86      0.86      0.86      4500\n",
      "\n"
     ]
    }
   ],
   "source": [
    "guardar_y_mostrar_resultados('Random Forest', y_test,random_forest_prediccion,random_forest_tiempo)\n",
    "matriz_confusion(y_test,random_forest_prediccion) "
   ]
  },
  {
   "cell_type": "markdown",
   "id": "b2da104b-1c3d-4146-a11d-7a3541554fb5",
   "metadata": {},
   "source": [
    "### Regresión Logística"
   ]
  },
  {
   "cell_type": "code",
   "execution_count": 2491,
   "id": "cd70ceb3-0262-4c51-99f2-ae12020f083e",
   "metadata": {},
   "outputs": [
    {
     "name": "stdout",
     "output_type": "stream",
     "text": [
      "Resultados para el modelo: Regresion logistica\n",
      "                 Model  Accuracy  Precision    Recall    ROCAUC  F1-Score  \\\n",
      "0  Regresion logistica  0.761111   0.751471  0.729653  0.759157  0.740401   \n",
      "\n",
      "       Time  \n",
      "0  0.014425   \n",
      "\n"
     ]
    },
    {
     "data": {
      "image/png": "[encoded data removed]",
      "text/plain": [
       "<Figure size 1200x400 with 4 Axes>"
      ]
     },
     "metadata": {},
     "output_type": "display_data"
    },
    {
     "name": "stdout",
     "output_type": "stream",
     "text": [
      "              precision    recall  f1-score   support\n",
      "\n",
      "           0       0.77      0.79      0.78      2399\n",
      "           1       0.75      0.73      0.74      2101\n",
      "\n",
      "    accuracy                           0.76      4500\n",
      "   macro avg       0.76      0.76      0.76      4500\n",
      "weighted avg       0.76      0.76      0.76      4500\n",
      "\n"
     ]
    }
   ],
   "source": [
    "guardar_y_mostrar_resultados('Regresion logistica', y_test,regresion_prediccion,regresion_tiempo)\n",
    "matriz_confusion(y_test,regresion_prediccion)"
   ]
  },
  {
   "cell_type": "markdown",
   "id": "ada958be-6ff1-4a76-8718-cf4bc1f20124",
   "metadata": {},
   "source": [
    "## Conclusiones"
   ]
  },
  {
   "cell_type": "markdown",
   "id": "eb490f4c-b012-4a47-99db-e10bb9897f21",
   "metadata": {},
   "source": [
    "Como primera conclusión podemos observar que el dataset no posee la cantidad de datos suficientes para hacer un modelo confiable. Por ende debemos, como primera medida, recolectar mas datos y trabajarlos. Tuvimos que crear datos sinteticos para balancear el dataset y entrenar el modelo. Quizas no fueron suficientes las variables del dataset(numero de columnas) ni los registros. (el dataset lo obtuve de la lista que nos pasaron pero no tenia 15 columnas). "
   ]
  },
  {
   "cell_type": "markdown",
   "id": "40d678d3-5cc4-48b8-8b75-7c3c9d39472b",
   "metadata": {},
   "source": [
    "Si obviamos esto y vamos directamente al comportamiento de los modelos, con los datos que contamos, podemos decir: que \n",
    "- Random Forest es el modelo que mejor se ajusta en metricas, es decir, es el mas performante. Pero posee un tiempo de ejecución considerablemte mayor que los otros modelos.\n",
    "- Arbol de decision lo sigue a unos pasos en metricas y es mucho mas rapido.\n",
    "- Regresión logistica no posee la misma calidad en metricas.\n",
    "\n",
    "Por ende Random Forest es el modelo mas adecuado y lo sigue Arbol de decision. No se recomienda utilizar regresion logistica. \n",
    "\n",
    "Por último los pasos a seguir son: en primera medida recolectar más información, tanto en variables categoricas y numericas como en numero de registros. Segundo ver con el equipo de BI o engenieria de datos la posibilidad de incorporar a la tabla más campos que puedan ser relevantes para nuestro modelo. "
   ]
  },
  {
   "cell_type": "code",
   "execution_count": null,
   "id": "57f8ec79-7652-4555-aefa-5fd00edb9957",
   "metadata": {},
   "outputs": [],
   "source": []
  }
 ],
 "metadata": {
  "colab": {
   "provenance": [],
   "toc_visible": true
  },
  "kernelspec": {
   "display_name": "Python 3 (ipykernel)",
   "language": "python",
   "name": "python3"
  },
  "language_info": {
   "codemirror_mode": {
    "name": "ipython",
    "version": 3
   },
   "file_extension": ".py",
   "mimetype": "text/x-python",
   "name": "python",
   "nbconvert_exporter": "python",
   "pygments_lexer": "ipython3",
   "version": "3.12.7"
  }
 },
 "nbformat": 4,
 "nbformat_minor": 5
}
